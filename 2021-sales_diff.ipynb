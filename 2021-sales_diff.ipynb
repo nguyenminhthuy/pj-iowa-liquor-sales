{
 "cells": [
  {
   "cell_type": "code",
   "execution_count": 1,
   "id": "d5e67a89",
   "metadata": {},
   "outputs": [],
   "source": [
    "import matplotlib\n",
    "import matplotlib.pyplot as plt\n",
    "from matplotlib.gridspec import GridSpec\n",
    "from matplotlib.ticker import NullFormatter\n",
    "import datetime as dt\n",
    "from math import sqrt, pow\n",
    "import numpy as np\n",
    "import pandas as pd\n",
    "from pandas.api.types import CategoricalDtype\n",
    "import seaborn as sns\n",
    "from sklearn.preprocessing import LabelEncoder,StandardScaler\n",
    "from sklearn.model_selection import train_test_split\n",
    "from sklearn.linear_model import LinearRegression\n",
    "\n",
    "# warnings\n",
    "import warnings\n",
    "warnings.filterwarnings('ignore',category=FutureWarning)\n",
    "\n",
    "%matplotlib inline"
   ]
  },
  {
   "cell_type": "code",
   "execution_count": 2,
   "id": "8fee9ca2",
   "metadata": {},
   "outputs": [],
   "source": [
    "df_2021 = pd.read_csv(\"data/2021_Iowa_Liquor_Sales.csv\", low_memory=False)"
   ]
  },
  {
   "cell_type": "markdown",
   "id": "ff3cfca5",
   "metadata": {},
   "source": [
    "## Format data"
   ]
  },
  {
   "cell_type": "code",
   "execution_count": 3,
   "id": "37ab6d7a",
   "metadata": {},
   "outputs": [
    {
     "ename": "KeyError",
     "evalue": "'Date'",
     "output_type": "error",
     "traceback": [
      "\u001b[1;31m---------------------------------------------------------------------------\u001b[0m",
      "\u001b[1;31mKeyError\u001b[0m                                  Traceback (most recent call last)",
      "File \u001b[1;32mc:\\da-course\\env\\lib\\site-packages\\pandas\\core\\indexes\\base.py:3803\u001b[0m, in \u001b[0;36mIndex.get_loc\u001b[1;34m(self, key, method, tolerance)\u001b[0m\n\u001b[0;32m   3802\u001b[0m \u001b[38;5;28;01mtry\u001b[39;00m:\n\u001b[1;32m-> 3803\u001b[0m     \u001b[38;5;28;01mreturn\u001b[39;00m \u001b[38;5;28;43mself\u001b[39;49m\u001b[38;5;241;43m.\u001b[39;49m\u001b[43m_engine\u001b[49m\u001b[38;5;241;43m.\u001b[39;49m\u001b[43mget_loc\u001b[49m\u001b[43m(\u001b[49m\u001b[43mcasted_key\u001b[49m\u001b[43m)\u001b[49m\n\u001b[0;32m   3804\u001b[0m \u001b[38;5;28;01mexcept\u001b[39;00m \u001b[38;5;167;01mKeyError\u001b[39;00m \u001b[38;5;28;01mas\u001b[39;00m err:\n",
      "File \u001b[1;32mc:\\da-course\\env\\lib\\site-packages\\pandas\\_libs\\index.pyx:138\u001b[0m, in \u001b[0;36mpandas._libs.index.IndexEngine.get_loc\u001b[1;34m()\u001b[0m\n",
      "File \u001b[1;32mc:\\da-course\\env\\lib\\site-packages\\pandas\\_libs\\index.pyx:165\u001b[0m, in \u001b[0;36mpandas._libs.index.IndexEngine.get_loc\u001b[1;34m()\u001b[0m\n",
      "File \u001b[1;32mpandas\\_libs\\hashtable_class_helper.pxi:5745\u001b[0m, in \u001b[0;36mpandas._libs.hashtable.PyObjectHashTable.get_item\u001b[1;34m()\u001b[0m\n",
      "File \u001b[1;32mpandas\\_libs\\hashtable_class_helper.pxi:5753\u001b[0m, in \u001b[0;36mpandas._libs.hashtable.PyObjectHashTable.get_item\u001b[1;34m()\u001b[0m\n",
      "\u001b[1;31mKeyError\u001b[0m: 'Date'",
      "\nThe above exception was the direct cause of the following exception:\n",
      "\u001b[1;31mKeyError\u001b[0m                                  Traceback (most recent call last)",
      "Cell \u001b[1;32mIn[3], line 1\u001b[0m\n\u001b[1;32m----> 1\u001b[0m df_2021[\u001b[38;5;124m'\u001b[39m\u001b[38;5;124mDate\u001b[39m\u001b[38;5;124m'\u001b[39m] \u001b[38;5;241m=\u001b[39m pd\u001b[38;5;241m.\u001b[39mto_datetime(\u001b[43mdf_2021\u001b[49m\u001b[43m[\u001b[49m\u001b[38;5;124;43m'\u001b[39;49m\u001b[38;5;124;43mDate\u001b[39;49m\u001b[38;5;124;43m'\u001b[39;49m\u001b[43m]\u001b[49m)\n",
      "File \u001b[1;32mc:\\da-course\\env\\lib\\site-packages\\pandas\\core\\frame.py:3805\u001b[0m, in \u001b[0;36mDataFrame.__getitem__\u001b[1;34m(self, key)\u001b[0m\n\u001b[0;32m   3803\u001b[0m \u001b[38;5;28;01mif\u001b[39;00m \u001b[38;5;28mself\u001b[39m\u001b[38;5;241m.\u001b[39mcolumns\u001b[38;5;241m.\u001b[39mnlevels \u001b[38;5;241m>\u001b[39m \u001b[38;5;241m1\u001b[39m:\n\u001b[0;32m   3804\u001b[0m     \u001b[38;5;28;01mreturn\u001b[39;00m \u001b[38;5;28mself\u001b[39m\u001b[38;5;241m.\u001b[39m_getitem_multilevel(key)\n\u001b[1;32m-> 3805\u001b[0m indexer \u001b[38;5;241m=\u001b[39m \u001b[38;5;28;43mself\u001b[39;49m\u001b[38;5;241;43m.\u001b[39;49m\u001b[43mcolumns\u001b[49m\u001b[38;5;241;43m.\u001b[39;49m\u001b[43mget_loc\u001b[49m\u001b[43m(\u001b[49m\u001b[43mkey\u001b[49m\u001b[43m)\u001b[49m\n\u001b[0;32m   3806\u001b[0m \u001b[38;5;28;01mif\u001b[39;00m is_integer(indexer):\n\u001b[0;32m   3807\u001b[0m     indexer \u001b[38;5;241m=\u001b[39m [indexer]\n",
      "File \u001b[1;32mc:\\da-course\\env\\lib\\site-packages\\pandas\\core\\indexes\\base.py:3805\u001b[0m, in \u001b[0;36mIndex.get_loc\u001b[1;34m(self, key, method, tolerance)\u001b[0m\n\u001b[0;32m   3803\u001b[0m     \u001b[38;5;28;01mreturn\u001b[39;00m \u001b[38;5;28mself\u001b[39m\u001b[38;5;241m.\u001b[39m_engine\u001b[38;5;241m.\u001b[39mget_loc(casted_key)\n\u001b[0;32m   3804\u001b[0m \u001b[38;5;28;01mexcept\u001b[39;00m \u001b[38;5;167;01mKeyError\u001b[39;00m \u001b[38;5;28;01mas\u001b[39;00m err:\n\u001b[1;32m-> 3805\u001b[0m     \u001b[38;5;28;01mraise\u001b[39;00m \u001b[38;5;167;01mKeyError\u001b[39;00m(key) \u001b[38;5;28;01mfrom\u001b[39;00m \u001b[38;5;21;01merr\u001b[39;00m\n\u001b[0;32m   3806\u001b[0m \u001b[38;5;28;01mexcept\u001b[39;00m \u001b[38;5;167;01mTypeError\u001b[39;00m:\n\u001b[0;32m   3807\u001b[0m     \u001b[38;5;66;03m# If we have a listlike key, _check_indexing_error will raise\u001b[39;00m\n\u001b[0;32m   3808\u001b[0m     \u001b[38;5;66;03m#  InvalidIndexError. Otherwise we fall through and re-raise\u001b[39;00m\n\u001b[0;32m   3809\u001b[0m     \u001b[38;5;66;03m#  the TypeError.\u001b[39;00m\n\u001b[0;32m   3810\u001b[0m     \u001b[38;5;28mself\u001b[39m\u001b[38;5;241m.\u001b[39m_check_indexing_error(key)\n",
      "\u001b[1;31mKeyError\u001b[0m: 'Date'"
     ]
    }
   ],
   "source": [
    "df_2021['Date'] = pd.to_datetime(df_2021['Date'])"
   ]
  },
  {
   "cell_type": "code",
   "execution_count": null,
   "id": "598e5a42",
   "metadata": {},
   "outputs": [],
   "source": [
    "df_2021['Year'] = df_2021['Date'].dt.strftime('%Y')\n",
    "df_2021['Month'] = df_2021['Date'].dt.strftime('%m')\n",
    "df_2021['Day'] = df_2021['Date'].dt.strftime('%d')\n",
    "df_2021['Day Of Week'] = df_2021['Date'].dt.day_name()"
   ]
  },
  {
   "cell_type": "code",
   "execution_count": null,
   "id": "6ac9f798",
   "metadata": {},
   "outputs": [],
   "source": [
    "df_2021['Month'] = df_2021['Month'].replace({'01': 'Jan', '02': 'Feb', '03': 'Mar', '04': 'Apr', '05': 'May', '06': 'June', \n",
    "                                            '07':'Jul', '08': 'Aug','09': 'Sep', '10': 'Oct', '11': 'Nov', '12': 'Dec'})"
   ]
  },
  {
   "cell_type": "code",
   "execution_count": null,
   "id": "a587dd60",
   "metadata": {},
   "outputs": [],
   "source": [
    "df_2021['Store Number'] = df_2021['Store Number'].astype('str')\n",
    "df_2021['County Number'] = df_2021['County Number'].astype('str')\n",
    "df_2021['Category'] = df_2021['Category'].astype('str')\n",
    "df_2021['Item Number'] = df_2021['Item Number'].astype('str')\n",
    "df_2021['Vendor Number'] = df_2021['Vendor Number'].astype('str')"
   ]
  },
  {
   "cell_type": "code",
   "execution_count": null,
   "id": "1e4e4f54",
   "metadata": {},
   "outputs": [],
   "source": [
    "month_category = CategoricalDtype(categories=[\"Jan\", \"Feb\", \"Mar\", \"Apr\", \"May\", \"June\", \"Jul\", \"Aug\",\n",
    "                                            \"Sep\", \"Oct\", \"Nov\", \"Dec\"], ordered=True)\n",
    "\n",
    "dayOfWeek_category = CategoricalDtype(categories=[\"Monday\", \"Tuesday\", \"Wednesday\", \"Thursday\", \"Friday\", \n",
    "                                                  \"Saturday\", \"Sunday\"], ordered=True)"
   ]
  },
  {
   "cell_type": "code",
   "execution_count": 4,
   "id": "3671a0ed",
   "metadata": {},
   "outputs": [
    {
     "data": {
      "text/html": [
       "<div>\n",
       "<style scoped>\n",
       "    .dataframe tbody tr th:only-of-type {\n",
       "        vertical-align: middle;\n",
       "    }\n",
       "\n",
       "    .dataframe tbody tr th {\n",
       "        vertical-align: top;\n",
       "    }\n",
       "\n",
       "    .dataframe thead th {\n",
       "        text-align: right;\n",
       "    }\n",
       "</style>\n",
       "<table border=\"1\" class=\"dataframe\">\n",
       "  <thead>\n",
       "    <tr style=\"text-align: right;\">\n",
       "      <th></th>\n",
       "      <th>invoice_and_item_number</th>\n",
       "      <th>date</th>\n",
       "      <th>store_number</th>\n",
       "      <th>store_name</th>\n",
       "      <th>address</th>\n",
       "      <th>city</th>\n",
       "      <th>zip_code</th>\n",
       "      <th>store_location</th>\n",
       "      <th>county_number</th>\n",
       "      <th>county</th>\n",
       "      <th>...</th>\n",
       "      <th>item_number</th>\n",
       "      <th>item_description</th>\n",
       "      <th>pack</th>\n",
       "      <th>bottle_volume_ml</th>\n",
       "      <th>state_bottle_cost</th>\n",
       "      <th>state_bottle_retail</th>\n",
       "      <th>bottles_sold</th>\n",
       "      <th>sale_dollars</th>\n",
       "      <th>volume_sold_liters</th>\n",
       "      <th>volume_sold_gallons</th>\n",
       "    </tr>\n",
       "  </thead>\n",
       "  <tbody>\n",
       "    <tr>\n",
       "      <th>0</th>\n",
       "      <td>INV-37974400176</td>\n",
       "      <td>2021-07-01</td>\n",
       "      <td>2572</td>\n",
       "      <td>Hy-Vee Food Store / Cedar Falls</td>\n",
       "      <td>6301 University</td>\n",
       "      <td>Cedar Falls</td>\n",
       "      <td>50613.0</td>\n",
       "      <td>POINT (-92.435236 42.512789)</td>\n",
       "      <td>7.0</td>\n",
       "      <td>BLACK HAWK</td>\n",
       "      <td>...</td>\n",
       "      <td>86507</td>\n",
       "      <td>Paramount Triple Sec</td>\n",
       "      <td>12</td>\n",
       "      <td>1000</td>\n",
       "      <td>3.84</td>\n",
       "      <td>5.76</td>\n",
       "      <td>4</td>\n",
       "      <td>23.04</td>\n",
       "      <td>4.0</td>\n",
       "      <td>1.05</td>\n",
       "    </tr>\n",
       "    <tr>\n",
       "      <th>1</th>\n",
       "      <td>INV-33767900019</td>\n",
       "      <td>2021-01-25</td>\n",
       "      <td>4129</td>\n",
       "      <td>Cyclone Liquors</td>\n",
       "      <td>626 Lincoln Way</td>\n",
       "      <td>Ames</td>\n",
       "      <td>50010.0</td>\n",
       "      <td>POINT (-93.618911 42.022854)</td>\n",
       "      <td>85.0</td>\n",
       "      <td>STORY</td>\n",
       "      <td>...</td>\n",
       "      <td>904563</td>\n",
       "      <td>SOOH Black Haus Blackberry Schnapps</td>\n",
       "      <td>12</td>\n",
       "      <td>1000</td>\n",
       "      <td>15.00</td>\n",
       "      <td>22.50</td>\n",
       "      <td>4</td>\n",
       "      <td>90.00</td>\n",
       "      <td>4.0</td>\n",
       "      <td>1.05</td>\n",
       "    </tr>\n",
       "    <tr>\n",
       "      <th>2</th>\n",
       "      <td>INV-33739700007</td>\n",
       "      <td>2021-01-25</td>\n",
       "      <td>6076</td>\n",
       "      <td>Shop N Save Newton</td>\n",
       "      <td>404 S 11th Ave W</td>\n",
       "      <td>Newton</td>\n",
       "      <td>50208.0</td>\n",
       "      <td>POINT (-93.058352 41.690355)</td>\n",
       "      <td>50.0</td>\n",
       "      <td>JASPER</td>\n",
       "      <td>...</td>\n",
       "      <td>101187</td>\n",
       "      <td>Hennessy VS NBA 2020 Giftbox</td>\n",
       "      <td>12</td>\n",
       "      <td>750</td>\n",
       "      <td>20.99</td>\n",
       "      <td>31.49</td>\n",
       "      <td>60</td>\n",
       "      <td>1889.40</td>\n",
       "      <td>45.0</td>\n",
       "      <td>11.88</td>\n",
       "    </tr>\n",
       "    <tr>\n",
       "      <th>3</th>\n",
       "      <td>INV-37792000067</td>\n",
       "      <td>2021-06-24</td>\n",
       "      <td>5102</td>\n",
       "      <td>Wilkie Liquors</td>\n",
       "      <td>724 1st  St  SE</td>\n",
       "      <td>Mount Vernon</td>\n",
       "      <td>52314.0</td>\n",
       "      <td>POINT (-91.410401 41.918328)</td>\n",
       "      <td>57.0</td>\n",
       "      <td>LINN</td>\n",
       "      <td>...</td>\n",
       "      <td>86251</td>\n",
       "      <td>Juarez Triple Sec</td>\n",
       "      <td>12</td>\n",
       "      <td>1000</td>\n",
       "      <td>2.42</td>\n",
       "      <td>3.63</td>\n",
       "      <td>60</td>\n",
       "      <td>217.80</td>\n",
       "      <td>60.0</td>\n",
       "      <td>15.85</td>\n",
       "    </tr>\n",
       "    <tr>\n",
       "      <th>4</th>\n",
       "      <td>INV-34644200110</td>\n",
       "      <td>2021-03-01</td>\n",
       "      <td>2647</td>\n",
       "      <td>Hy-Vee #7 / Cedar Rapids</td>\n",
       "      <td>5050 Edgewood Rd</td>\n",
       "      <td>Cedar Rapids</td>\n",
       "      <td>52411.0</td>\n",
       "      <td>POINT (-91.701581 42.030129)</td>\n",
       "      <td>57.0</td>\n",
       "      <td>LINN</td>\n",
       "      <td>...</td>\n",
       "      <td>86843</td>\n",
       "      <td>Ole Smoky Salty Caramel Whiskey</td>\n",
       "      <td>6</td>\n",
       "      <td>750</td>\n",
       "      <td>10.00</td>\n",
       "      <td>15.00</td>\n",
       "      <td>18</td>\n",
       "      <td>270.00</td>\n",
       "      <td>13.5</td>\n",
       "      <td>3.56</td>\n",
       "    </tr>\n",
       "  </tbody>\n",
       "</table>\n",
       "<p>5 rows × 24 columns</p>\n",
       "</div>"
      ],
      "text/plain": [
       "  invoice_and_item_number        date  store_number  \\\n",
       "0         INV-37974400176  2021-07-01          2572   \n",
       "1         INV-33767900019  2021-01-25          4129   \n",
       "2         INV-33739700007  2021-01-25          6076   \n",
       "3         INV-37792000067  2021-06-24          5102   \n",
       "4         INV-34644200110  2021-03-01          2647   \n",
       "\n",
       "                        store_name           address          city  zip_code  \\\n",
       "0  Hy-Vee Food Store / Cedar Falls   6301 University   Cedar Falls   50613.0   \n",
       "1                  Cyclone Liquors   626 Lincoln Way          Ames   50010.0   \n",
       "2               Shop N Save Newton  404 S 11th Ave W        Newton   50208.0   \n",
       "3                   Wilkie Liquors   724 1st  St  SE  Mount Vernon   52314.0   \n",
       "4         Hy-Vee #7 / Cedar Rapids  5050 Edgewood Rd  Cedar Rapids   52411.0   \n",
       "\n",
       "                 store_location  county_number      county  ...  item_number  \\\n",
       "0  POINT (-92.435236 42.512789)            7.0  BLACK HAWK  ...        86507   \n",
       "1  POINT (-93.618911 42.022854)           85.0       STORY  ...       904563   \n",
       "2  POINT (-93.058352 41.690355)           50.0      JASPER  ...       101187   \n",
       "3  POINT (-91.410401 41.918328)           57.0        LINN  ...        86251   \n",
       "4  POINT (-91.701581 42.030129)           57.0        LINN  ...        86843   \n",
       "\n",
       "                      item_description  pack bottle_volume_ml  \\\n",
       "0                 Paramount Triple Sec    12             1000   \n",
       "1  SOOH Black Haus Blackberry Schnapps    12             1000   \n",
       "2         Hennessy VS NBA 2020 Giftbox    12              750   \n",
       "3                    Juarez Triple Sec    12             1000   \n",
       "4      Ole Smoky Salty Caramel Whiskey     6              750   \n",
       "\n",
       "   state_bottle_cost state_bottle_retail  bottles_sold  sale_dollars  \\\n",
       "0               3.84                5.76             4         23.04   \n",
       "1              15.00               22.50             4         90.00   \n",
       "2              20.99               31.49            60       1889.40   \n",
       "3               2.42                3.63            60        217.80   \n",
       "4              10.00               15.00            18        270.00   \n",
       "\n",
       "   volume_sold_liters  volume_sold_gallons  \n",
       "0                 4.0                 1.05  \n",
       "1                 4.0                 1.05  \n",
       "2                45.0                11.88  \n",
       "3                60.0                15.85  \n",
       "4                13.5                 3.56  \n",
       "\n",
       "[5 rows x 24 columns]"
      ]
     },
     "execution_count": 4,
     "metadata": {},
     "output_type": "execute_result"
    }
   ],
   "source": [
    "df_2021.head(5)"
   ]
  },
  {
   "cell_type": "code",
   "execution_count": null,
   "id": "59c381f7",
   "metadata": {},
   "outputs": [],
   "source": [
    "df_2021.info()"
   ]
  },
  {
   "cell_type": "markdown",
   "id": "059c44d1",
   "metadata": {},
   "source": [
    "## Overall Sales of 2021"
   ]
  },
  {
   "cell_type": "code",
   "execution_count": null,
   "id": "f6672316",
   "metadata": {
    "scrolled": true
   },
   "outputs": [],
   "source": [
    "sale_2021 = '${:,.0f}'.format(df_2021['Sale (Dollars)'].sum())\n",
    "inv_2021 = '{:,.0f}'.format(len(df_2021['Invoice/Item Number']))\n",
    "\n",
    "#-----------------------------------#\n",
    "dow_sale_2021 = df_2021['Sale (Dollars)'].groupby(df_2021['Day Of Week'].astype(dayOfWeek_category)).sum()                         \n",
    "dow_sale_2021 = dow_sale_2021.apply(lambda x: f'${x:,.0f}').to_frame()\n",
    "\n",
    "dow_inv_2021 = df_2021['Day Of Week'].astype(dayOfWeek_category).value_counts(sort=False)\n",
    "dow_inv_2021 = dow_inv_2021.apply(lambda x: f'{x:,.0f}').to_frame(name='Num of invoice')\n",
    "\n",
    "dow_2021 = pd.concat([dow_sale_2021, dow_inv_2021], axis=1, join=\"inner\")\n",
    "\n",
    "#-----------------------------------#\n",
    "month_sale_2021 = df_2021['Sale (Dollars)'].groupby(df_2021['Month'].astype(month_category)).sum()\n",
    "month_sale_2021 = month_sale_2021.apply(lambda x: f'${x:,.0f}').to_frame()\n",
    "\n",
    "month_inv_2021 = df_2021['Month'].value_counts(sort=False)\n",
    "month_inv_2021 = month_inv_2021.apply(lambda x: f'{x:,.0f}').to_frame(name='Num of invoice')\n",
    "\n",
    "month_bottle_2021 = df_2021['Bottles Sold'].groupby(df_2021['Month'].astype(month_category)).sum()\n",
    "month_bottle_2021 = month_bottle_2021.apply(lambda x: f'{x:,.0f}').to_frame(name='Num of bottle sold')\n",
    "\n",
    "month_2021 = pd.concat([month_sale_2021, month_inv_2021, month_bottle_2021], axis=1, join=\"inner\")\n",
    "\n",
    "#-----------------------------------#\n",
    "#store_sale_2021 = df_2021.groupby(['Store Number','Store Name','Address','City','Zip Code', \n",
    "#                                   'Store Location','County'])['Sale (Dollars)'].sum().nlargest(10)\n",
    "store_sale_2021 = df_2021.groupby(['Store Name'])['Sale (Dollars)'].sum().nlargest(10)                                   \n",
    "store_sale_2021 = store_sale_2021.apply(lambda x: f'${x:,.0f}').to_frame()\n",
    "\n",
    "store_inv_2021 = df_2021['Store Name'].value_counts().nlargest(10)\n",
    "store_inv_2021 = store_inv_2021.apply(lambda x: f'{x:,.0f}').to_frame(name='Num of invoice')\n",
    "\n",
    "#-----------------------------------#\n",
    "city_sale_2021 = df_2021.groupby(['City'])['Sale (Dollars)'].sum().nlargest(10)                                   \n",
    "city_sale_2021 = city_sale_2021.apply(lambda x: f'${x:,.0f}').to_frame()\n",
    "\n",
    "city_inv_2021 = df_2021['City'].value_counts().nlargest(10)\n",
    "city_inv_2021 = city_inv_2021.apply(lambda x: f'{x:,.0f}').to_frame(name='Num of invoice')\n",
    "\n",
    "#-----------------------------------#\n",
    "county_sale_2021 = df_2021.groupby(['County'])['Sale (Dollars)'].sum().nlargest(10)                                   \n",
    "county_sale_2021 = county_sale_2021.apply(lambda x: f'${x:,.0f}').to_frame()\n",
    "\n",
    "county_inv_2021 = df_2021['County'].value_counts().nlargest(10)\n",
    "county_inv_2021 = county_inv_2021.apply(lambda x: f'{x:,.0f}').to_frame(name='Num of invoice')\n",
    "\n",
    "#-----------------------------------#\n",
    "catname_sale_2021 = df_2021.groupby(['Category Name'])['Sale (Dollars)'].sum().nlargest(10)                                   \n",
    "catname_sale_2021 = catname_sale_2021.apply(lambda x: f'${x:,.0f}').to_frame()\n",
    "\n",
    "catname_inv_2021 = df_2021['Category Name'].value_counts().nlargest(10)\n",
    "catname_inv_2021 = catname_inv_2021.apply(lambda x: f'{x:,.0f}').to_frame(name='Num of invoice')\n",
    "\n",
    "#-----------------------------------#\n",
    "vendor_sale_2021 = df_2021.groupby(['Vendor Name'])['Sale (Dollars)'].sum().nlargest(10)                                   \n",
    "vendor_sale_2021 = vendor_sale_2021.apply(lambda x: f'${x:,.0f}').to_frame()\n",
    "\n",
    "vendor_inv_2021 = df_2021['Vendor Name'].value_counts().nlargest(10)\n",
    "vendor_inv_2021 = vendor_inv_2021.apply(lambda x: f'{x:,.0f}').to_frame(name='Num of invoice')\n",
    "\n",
    "#-----------------------------------#\n",
    "item_sale_2021 = df_2021.groupby(['Item Description'])['Sale (Dollars)'].sum().nlargest(10)                                   \n",
    "item_sale_2021 = item_sale_2021.apply(lambda x: f'${x:,.0f}').to_frame()\n",
    "\n",
    "item_inv_2021 = df_2021['Item Description'].value_counts().nlargest(10)\n",
    "item_inv_2021 = item_inv_2021.apply(lambda x: f'{x:,.0f}').to_frame(name='Num of invoice')\n",
    "\n",
    "#-----------------------------------#\n",
    "print(f\"_____Overall sales of 2021_____\\n\")\n",
    "print(f\"Total sale of 2021: {sale_2021}\")\n",
    "print(f\"Total invoice of 2021: {inv_2021}\")\n",
    "print(\"#-----------------------------------#\")\n",
    "print(f\"Day of Week with Best Sales:\\n {dow_2021}\")\n",
    "print(\"#-----------------------------------#\")\n",
    "print(f\"Month with Best Sales:\\n {month_2021}\")\n",
    "print(\"#-----------------------------------#\")\n",
    "print(f\"Store (sales) with Best Sales:\\n {store_sale_2021}\")\n",
    "print(\"#-----------------------------------#\")\n",
    "print(f\"Store (invoices) with Best Sales:\\n {store_inv_2021}\")\n",
    "print(\"#-----------------------------------#\")\n",
    "print(f\"County (sales) with Best Sales:\\n {county_sale_2021}\")\n",
    "print(\"#-----------------------------------#\")\n",
    "print(f\"County (invoices) with Best Sales:\\n {county_inv_2021}\")\n",
    "print(\"#-----------------------------------#\")\n",
    "print(f\"City (sales) with Best Sales:\\n {city_sale_2021}\")\n",
    "print(\"#-----------------------------------#\")\n",
    "print(f\"City (invoices) with Best Sales:\\n {city_inv_2021}\")\n",
    "print(\"#-----------------------------------#\")\n",
    "print(f\"Category (sales) with Best Sales:\\n {catname_sale_2021}\")\n",
    "print(\"#-----------------------------------#\")\n",
    "print(f\"Category (invoices) with Best Sales:\\n {catname_inv_2021}\")\n",
    "print(\"#-----------------------------------#\")\n",
    "print(f\"Vendor (sales) with Best Sales:\\n {vendor_sale_2021}\")\n",
    "print(\"#-----------------------------------#\")\n",
    "print(f\"Vendor (invoices) with Best Sales:\\n {vendor_inv_2021}\")\n",
    "print(\"#-----------------------------------#\")\n",
    "print(f\"Item (sales) with Best Sales:\\n {item_sale_2021}\")\n",
    "print(\"#-----------------------------------#\")\n",
    "print(f\"Item (invoices) with Best Sales:\\n {item_inv_2021}\")"
   ]
  },
  {
   "cell_type": "markdown",
   "id": "9a87eca8",
   "metadata": {},
   "source": [
    "## Functions"
   ]
  },
  {
   "cell_type": "code",
   "execution_count": null,
   "id": "85bcc91c",
   "metadata": {},
   "outputs": [],
   "source": [
    "def reformat_large_tick_values(tick_val, pos):\n",
    "    \"\"\"\n",
    "    Turns large tick values (in the billions, millions and thousands) such as 4500 into 4.5K and also appropriately turns 4000 into 4K (no zero after the decimal).\n",
    "    \"\"\"\n",
    "    if tick_val >= 1000000000:\n",
    "        val = round(tick_val/1000000000, 1)\n",
    "        new_tick_format = '{:}B'.format(val)\n",
    "    elif tick_val >= 1000000:\n",
    "        val = round(tick_val/1000000, 1)\n",
    "        new_tick_format = '{:}M'.format(val)\n",
    "    elif tick_val >= 1000:\n",
    "        val = round(tick_val/1000, 1)\n",
    "        new_tick_format = '{:}K'.format(val)\n",
    "    elif tick_val < 1000:\n",
    "        new_tick_format = round(tick_val, 1)\n",
    "    else:\n",
    "        new_tick_format = tick_val\n",
    "\n",
    "    # make new_tick_format into a string value\n",
    "    new_tick_format = str(new_tick_format)\n",
    "    \n",
    "    # code below will keep 4.5M as is but change values such as 4.0M to 4M since that zero after the decimal isn't needed\n",
    "    index_of_decimal = new_tick_format.find(\".\")\n",
    "    \n",
    "    if index_of_decimal != -1:\n",
    "        value_after_decimal = new_tick_format[index_of_decimal+1]\n",
    "        if value_after_decimal == \"0\":\n",
    "            # remove the 0 after the decimal point since it's not needed\n",
    "            new_tick_format = new_tick_format[0:index_of_decimal] + new_tick_format[index_of_decimal+2:]\n",
    "            \n",
    "    return new_tick_format"
   ]
  },
  {
   "cell_type": "code",
   "execution_count": null,
   "id": "403b6675",
   "metadata": {},
   "outputs": [],
   "source": [
    "# Day of Week with Best Sales\n",
    "def plot_dow_bestsale_graph(df_sale, df_inv):     \n",
    "    fig, ax1 = plt.subplots(figsize=(8, 5))\n",
    "\n",
    "    ax2 = ax1.twinx()\n",
    "\n",
    "    df_sale.plot(kind='bar', color='y', ax=ax1, label = 'Sales (USD)')\n",
    "    df_inv.plot(kind='line', marker='d', ax=ax2, label='Number of invoices')\n",
    "     \n",
    "    ax1.set_ylabel(\"Sales (USD)\", fontsize=13, color='r', labelpad=15)\n",
    "    ax1.set_xlabel(\"Day of Week\", fontsize=13, color='r', labelpad=15)\n",
    "    ax1.set_xticklabels(['Mon', 'Tue','Wed','Thu','Fri','Sat','Sun'], rotation = 0)\n",
    "    \n",
    "    ax1.yaxis.tick_left()\n",
    "    ax1.yaxis.set_major_formatter(reformat_large_tick_values)\n",
    "    ax1.yaxis.set_minor_formatter(NullFormatter())\n",
    "\n",
    "    ax2.set_ylabel(\"Number of invoices\", fontsize=13, color='r', labelpad=15)\n",
    "    \n",
    "    ax2.yaxis.tick_right()\n",
    "    ax2.yaxis.set_major_formatter(reformat_large_tick_values)\n",
    "    ax2.yaxis.set_minor_formatter(NullFormatter())\n",
    "\n",
    "    # combine 2 legends into 1\n",
    "    lines_1, labels_1 = ax1.get_legend_handles_labels()\n",
    "    lines_2, labels_2 = ax2.get_legend_handles_labels()\n",
    "\n",
    "    lines = lines_1 + lines_2\n",
    "    labels = labels_1 + labels_2\n",
    "\n",
    "    ax1.legend(lines, labels, loc=0)\n",
    "    ax2.legend().set_visible(False)\n",
    "\n",
    "    plt.title(\"Day of Week with Best Sales\", pad=20, fontsize=14); "
   ]
  },
  {
   "cell_type": "code",
   "execution_count": null,
   "id": "da6001ee",
   "metadata": {},
   "outputs": [],
   "source": [
    "# Month with Best Sales\n",
    "def plot_month_bestsale_graph(df_sale, df_inv):     \n",
    "    fig, ax1 = plt.subplots(figsize=(8, 5))\n",
    "    ax2 = ax1.twinx()\n",
    "\n",
    "    df_sale.plot(kind='bar', color='y', ax=ax1, label='Sales (USD)')\n",
    "    df_inv.plot(kind='line', marker='d', ax=ax2, label='Number of invoices')\n",
    "\n",
    "       \n",
    "    ax1.set_ylabel(\"Sales (USD)\", fontsize=13, color='r', labelpad=15)\n",
    "    ax1.set_xlabel(\"Months\", fontsize=13, color='r', labelpad=15)\n",
    "    ax1.set_xticklabels(['Jan', 'Feb','Mar','Apr','May','Jun','Jul','Aug','Sep','Oct','Nov','Dec'], rotation = 0)\n",
    "    ax1.yaxis.tick_left()\n",
    "    ax1.yaxis.set_major_formatter(reformat_large_tick_values)\n",
    "    ax1.yaxis.set_minor_formatter(NullFormatter()) \n",
    "\n",
    "    ax2.set_ylabel(\"Number of invoices\", fontsize=13, color='r', labelpad=15)\n",
    "    ax2.yaxis.tick_right()\n",
    "    ax2.yaxis.set_major_formatter(reformat_large_tick_values)\n",
    "    ax2.yaxis.set_minor_formatter(NullFormatter())\n",
    "\n",
    "    # combine 2 legends into 1\n",
    "    lines_1, labels_1 = ax1.get_legend_handles_labels()\n",
    "    lines_2, labels_2 = ax2.get_legend_handles_labels()\n",
    "\n",
    "    lines = lines_1 + lines_2\n",
    "    labels = labels_1 + labels_2\n",
    "\n",
    "    ax1.legend(lines, labels, loc=0)\n",
    "    ax2.legend().set_visible(False)\n",
    "\n",
    "    plt.title(\"Months with Best Sales\", pad=20, fontsize=14);"
   ]
  },
  {
   "cell_type": "code",
   "execution_count": null,
   "id": "761730c9",
   "metadata": {},
   "outputs": [],
   "source": [
    "def plot_top10store_bestsale_graph(df_store_sale):    \n",
    "    ax = df_store_sale.plot.barh()\n",
    "\n",
    "    ax.xaxis.set_major_formatter(reformat_large_tick_values)\n",
    "    ax.xaxis.set_minor_formatter(NullFormatter())\n",
    "\n",
    "    plt.ylabel(\"Store Name\", fontsize=13, color='r', labelpad=15)\n",
    "    plt.xlabel(\"Sales in (USD)\", fontsize=13, color='r', labelpad=15)\n",
    "    plt.title(\"Top 10 Stores with Best Sales (USD)\", fontsize=13, color='r', pad=15);"
   ]
  },
  {
   "cell_type": "code",
   "execution_count": null,
   "id": "e4809382",
   "metadata": {},
   "outputs": [],
   "source": [
    "def plot_top10store_bestinv_graph(df_store_inv):    \n",
    "    ax = df_store_inv.plot.barh()\n",
    "    \n",
    "    ax.xaxis.set_major_formatter(reformat_large_tick_values)\n",
    "    ax.xaxis.set_minor_formatter(NullFormatter())\n",
    "\n",
    "    plt.ylabel(\"Store Name\", fontsize=13, color='r', labelpad=15)\n",
    "    plt.xlabel(\"Number of invoices\", fontsize=13, color='r', labelpad=15)\n",
    "    plt.title(\"Top 10 Stores with Best number of invoices\", fontsize=13, color='r', pad=15);"
   ]
  },
  {
   "cell_type": "code",
   "execution_count": null,
   "id": "e08c5ca0",
   "metadata": {},
   "outputs": [],
   "source": [
    "def plot_top10city_bestsale_graph(df_city_sale):\n",
    "    ax = df_city_sale.plot.barh()\n",
    "\n",
    "    ax.xaxis.set_major_formatter(reformat_large_tick_values)\n",
    "    ax.xaxis.set_minor_formatter(NullFormatter())\n",
    "\n",
    "    plt.ylabel(\"City Name\", fontsize=13, color='r', labelpad=15)\n",
    "    plt.xlabel(\"Sales (USD)\", fontsize=13, color='r', labelpad=15)\n",
    "    plt.title(\"Top 10 City with Best Sales (USD)\", fontsize=13, color='r', pad=15);"
   ]
  },
  {
   "cell_type": "code",
   "execution_count": null,
   "id": "09f917b8",
   "metadata": {},
   "outputs": [],
   "source": [
    "def plot_top10city_bestinv_graph(df_city_inv):    \n",
    "    ax = df_city_inv.plot.barh()\n",
    "    \n",
    "    ax.xaxis.set_major_formatter(reformat_large_tick_values)\n",
    "    ax.xaxis.set_minor_formatter(NullFormatter())\n",
    "\n",
    "    plt.ylabel(\"City Name\", fontsize=13, color='r', labelpad=15)\n",
    "    plt.xlabel(\"Number of invoices\", fontsize=13, color='r', labelpad=15)\n",
    "    plt.title(\"Top 10 City with Best number of invoices\", fontsize=13, color='r', pad=15);"
   ]
  },
  {
   "cell_type": "code",
   "execution_count": null,
   "id": "63f61fb5",
   "metadata": {},
   "outputs": [],
   "source": [
    "def plot_top10county_bestsale_graph(df_county_sale):\n",
    "    ax = df_county_sale.plot.barh()\n",
    "\n",
    "    ax.xaxis.set_major_formatter(reformat_large_tick_values)\n",
    "    ax.xaxis.set_minor_formatter(NullFormatter())\n",
    "\n",
    "    plt.ylabel(\"County Name\", fontsize=13, color='r', labelpad=15)\n",
    "    plt.xlabel(\"Sales (USD)\", fontsize=13, color='r', labelpad=15)\n",
    "    plt.title(\"Top 10 County with Best Sales (USD)\", fontsize=13, color='r', pad=15);"
   ]
  },
  {
   "cell_type": "code",
   "execution_count": null,
   "id": "60f6acfd",
   "metadata": {},
   "outputs": [],
   "source": [
    "def plot_top10county_bestinv_graph(df_county_inv):\n",
    "    ax = df_county_inv.plot.barh()\n",
    "    \n",
    "    ax.xaxis.set_major_formatter(reformat_large_tick_values)\n",
    "    ax.xaxis.set_minor_formatter(NullFormatter())\n",
    "\n",
    "    plt.ylabel(\"County Name\", fontsize=13, color='r', labelpad=15)\n",
    "    plt.xlabel(\"Number of invoices\", fontsize=13, color='r', labelpad=15)\n",
    "    plt.title(\"Top 10 County with Best number of invoices\", fontsize=13, color='r', pad=15);"
   ]
  },
  {
   "cell_type": "code",
   "execution_count": null,
   "id": "eb54d802",
   "metadata": {},
   "outputs": [],
   "source": [
    "def plot_top10cat_bestsale_graph(df_cat_sale):\n",
    "    ax = df_cat_sale.plot.barh()\n",
    "\n",
    "    ax.xaxis.set_major_formatter(reformat_large_tick_values)\n",
    "    ax.xaxis.set_minor_formatter(NullFormatter())\n",
    "\n",
    "    plt.ylabel(\"Category Name\", fontsize=13, color='r', labelpad=15)\n",
    "    plt.xlabel(\"Sales (USD)\", fontsize=13, color='r', labelpad=15)\n",
    "    plt.title(\"Top 10 Categories with Best Sales (USD)\", fontsize=13, color='r', pad=15);"
   ]
  },
  {
   "cell_type": "code",
   "execution_count": null,
   "id": "a624512f",
   "metadata": {},
   "outputs": [],
   "source": [
    "def plot_top10cat_bestinv_graph(df_cat_inv):\n",
    "    ax = df_cat_inv.plot.barh()\n",
    "    \n",
    "    ax.xaxis.set_major_formatter(reformat_large_tick_values)\n",
    "    ax.xaxis.set_minor_formatter(NullFormatter())\n",
    "\n",
    "    plt.ylabel(\"Categories Name\", fontsize=13, color='r', labelpad=15)\n",
    "    plt.xlabel(\"Number of invoices\", fontsize=13, color='r', labelpad=15)\n",
    "    plt.title(\"Top 10 Categories with Best number of invoices\", fontsize=13, color='r', pad=15);"
   ]
  },
  {
   "cell_type": "code",
   "execution_count": null,
   "id": "7c1ffd3f",
   "metadata": {},
   "outputs": [],
   "source": [
    "def plot_top10vendors_bestsale_graph(df_vendor_sale):\n",
    "    ax = df_vendor_sale.plot.barh()\n",
    "\n",
    "    ax.xaxis.set_major_formatter(reformat_large_tick_values)\n",
    "    ax.xaxis.set_minor_formatter(NullFormatter())\n",
    "\n",
    "    plt.ylabel(\"Vendor Name\", fontsize=13, color='r', labelpad=15)\n",
    "    plt.xlabel(\"Sales (USD)\", fontsize=13, color='r', labelpad=15)\n",
    "    plt.title(\"Top 10 Vendors with Best Sales (USD)\", fontsize=13, color='r', pad=15);"
   ]
  },
  {
   "cell_type": "code",
   "execution_count": null,
   "id": "be802eca",
   "metadata": {},
   "outputs": [],
   "source": [
    "def plot_top10vendors_bestinv_graph(df_vendor_inv):\n",
    "    ax = df_vendor_inv.plot.barh()\n",
    "    \n",
    "    ax.xaxis.set_major_formatter(reformat_large_tick_values)\n",
    "    ax.xaxis.set_minor_formatter(NullFormatter())\n",
    "\n",
    "    plt.ylabel(\"Vendor Name\", fontsize=13, color='r', labelpad=15)\n",
    "    plt.xlabel(\"Number of invoices\", fontsize=13, color='r', labelpad=15)\n",
    "    plt.title(\"Top 10 Vendors with Best number of invoices\", fontsize=13, color='r', pad=15);"
   ]
  },
  {
   "cell_type": "code",
   "execution_count": null,
   "id": "b9a15431",
   "metadata": {},
   "outputs": [],
   "source": [
    "def plot_top10items_bestsale_graph(df_item_sale):\n",
    "    ax = df_item_sale.plot.barh()\n",
    "\n",
    "    ax.xaxis.set_major_formatter(reformat_large_tick_values)\n",
    "    ax.xaxis.set_minor_formatter(NullFormatter())\n",
    "\n",
    "    plt.ylabel(\"Item Name\", fontsize=13, color='r', labelpad=15)\n",
    "    plt.xlabel(\"Sales (USD)\", fontsize=13, color='r', labelpad=15)\n",
    "    plt.title(\"Top 10 Items with Best Sales (USD)\", fontsize=13, color='r', pad=15);"
   ]
  },
  {
   "cell_type": "code",
   "execution_count": null,
   "id": "9942ae92",
   "metadata": {},
   "outputs": [],
   "source": [
    "def plot_top10items_bestinv_graph(df_item_inv):\n",
    "    ax = df_item_inv.plot.barh()\n",
    "    \n",
    "    ax.xaxis.set_major_formatter(reformat_large_tick_values)\n",
    "    ax.xaxis.set_minor_formatter(NullFormatter())\n",
    "\n",
    "    plt.ylabel(\"Item Name\", fontsize=13, color='r', labelpad=15)\n",
    "    plt.xlabel(\"Number of invoices\", fontsize=13, color='r', labelpad=15)\n",
    "    plt.title(\"Top 10 Items with Best number of invoices\", fontsize=13, color='r', pad=15);"
   ]
  },
  {
   "cell_type": "markdown",
   "id": "c53a5a5d",
   "metadata": {},
   "source": [
    "## Graphs"
   ]
  },
  {
   "cell_type": "code",
   "execution_count": null,
   "id": "5acbd1b0",
   "metadata": {},
   "outputs": [],
   "source": [
    "dow_sale_2021 = df_2021['Sale (Dollars)'].groupby(df_2021['Day Of Week'].astype(dayOfWeek_category)).sum()\n",
    "dow_inv_2021 = df_2021['Day Of Week'].astype(dayOfWeek_category).value_counts(sort=False)\n",
    "\n",
    "plot_dow_bestsale_graph(dow_sale_2021, dow_inv_2021)"
   ]
  },
  {
   "cell_type": "code",
   "execution_count": null,
   "id": "54d69e63",
   "metadata": {},
   "outputs": [],
   "source": [
    "month_sale_2021 = df_2021['Sale (Dollars)'].groupby(df_2021['Month'].astype(month_category)).sum()\n",
    "month_inv_2021 = df_2021['Month'].value_counts(sort=False)\n",
    "\n",
    "plot_month_bestsale_graph(month_sale_2021, month_inv_2021)"
   ]
  },
  {
   "cell_type": "code",
   "execution_count": null,
   "id": "9beff2d2",
   "metadata": {},
   "outputs": [],
   "source": [
    "store_sale_2021 = df_2021.groupby(['Store Name'])['Sale (Dollars)'].sum().nlargest(10)                                   \n",
    "\n",
    "plot_top10store_bestsale_graph(store_sale_2021)"
   ]
  },
  {
   "cell_type": "code",
   "execution_count": null,
   "id": "7d07ade7",
   "metadata": {},
   "outputs": [],
   "source": [
    "store_inv_2021 = df_2021['Store Name'].value_counts().nlargest(10)\n",
    "\n",
    "plot_top10store_bestinv_graph(store_inv_2021)"
   ]
  },
  {
   "cell_type": "code",
   "execution_count": null,
   "id": "44e962cf",
   "metadata": {},
   "outputs": [],
   "source": [
    "city_sale_2021 = df_2021.groupby(['City'])['Sale (Dollars)'].sum().nlargest(10)                                   \n",
    "\n",
    "plot_top10city_bestsale_graph(city_sale_2021)"
   ]
  },
  {
   "cell_type": "code",
   "execution_count": null,
   "id": "a91c0a1f",
   "metadata": {},
   "outputs": [],
   "source": [
    "city_inv_2021 = df_2021['City'].value_counts().nlargest(10)\n",
    "\n",
    "plot_top10city_bestinv_graph(city_inv_2021)"
   ]
  },
  {
   "cell_type": "code",
   "execution_count": null,
   "id": "ee67aa1d",
   "metadata": {},
   "outputs": [],
   "source": [
    "county_sale_2021 = df_2021.groupby(['County'])['Sale (Dollars)'].sum().nlargest(10)                                   \n",
    "\n",
    "plot_top10county_bestsale_graph(county_sale_2021)"
   ]
  },
  {
   "cell_type": "code",
   "execution_count": null,
   "id": "78f346ac",
   "metadata": {},
   "outputs": [],
   "source": [
    "county_inv_2021 = df_2021['County'].value_counts().nlargest(10)\n",
    "\n",
    "plot_top10county_bestinv_graph(county_inv_2021)"
   ]
  },
  {
   "cell_type": "code",
   "execution_count": null,
   "id": "1d6ae861",
   "metadata": {},
   "outputs": [],
   "source": [
    "catname_sale_2021 = df_2021.groupby(['Category Name'])['Sale (Dollars)'].sum().nlargest(10)                                   \n",
    "\n",
    "plot_top10cat_bestsale_graph(catname_sale_2021)"
   ]
  },
  {
   "cell_type": "code",
   "execution_count": null,
   "id": "155f9aa1",
   "metadata": {},
   "outputs": [],
   "source": [
    "catname_inv_2021 = df_2021['Category Name'].value_counts().nlargest(10)\n",
    "\n",
    "plot_top10cat_bestinv_graph(catname_inv_2021)"
   ]
  },
  {
   "cell_type": "code",
   "execution_count": null,
   "id": "ac873e3a",
   "metadata": {},
   "outputs": [],
   "source": [
    "vendor_sale_2021 = df_2021.groupby(['Vendor Name'])['Sale (Dollars)'].sum().nlargest(10)                                   \n",
    "\n",
    "plot_top10vendors_bestsale_graph(vendor_sale_2021)"
   ]
  },
  {
   "cell_type": "code",
   "execution_count": null,
   "id": "991316f9",
   "metadata": {},
   "outputs": [],
   "source": [
    "vendor_inv_2021 = df_2021['Vendor Name'].value_counts().nlargest(10)\n",
    "\n",
    "plot_top10vendors_bestinv_graph(vendor_inv_2021)"
   ]
  },
  {
   "cell_type": "code",
   "execution_count": null,
   "id": "28278539",
   "metadata": {},
   "outputs": [],
   "source": [
    "item_sale_2021 = df_2021.groupby(['Item Description'])['Sale (Dollars)'].sum().nlargest(10)                                   \n",
    "\n",
    "plot_top10items_bestsale_graph(item_sale_2021)"
   ]
  },
  {
   "cell_type": "code",
   "execution_count": null,
   "id": "bd295616",
   "metadata": {},
   "outputs": [],
   "source": [
    "item_inv_2021 = df_2021['Item Description'].value_counts().nlargest(10)\n",
    "\n",
    "plot_top10items_bestinv_graph(item_inv_2021)"
   ]
  },
  {
   "cell_type": "markdown",
   "id": "96b7d193",
   "metadata": {},
   "source": [
    "## Advanced Search"
   ]
  },
  {
   "cell_type": "markdown",
   "id": "faff0965",
   "metadata": {},
   "source": [
    "### Query By a Date"
   ]
  },
  {
   "cell_type": "code",
   "execution_count": null,
   "id": "1bd0d6ae",
   "metadata": {
    "scrolled": true
   },
   "outputs": [],
   "source": [
    "# By a Date\n",
    "# 2021-01-03\n",
    "\n",
    "df_byDate_2021 = df_2021[df_2021['Date'] == '2021-01-05']\n",
    "\n",
    "sale_byDate_2021 = '${:,.0f}'.format(df_byDate_2021['Sale (Dollars)'].sum())\n",
    "inv_byDate_2021 = '{:,.0f}'.format(len(df_byDate_2021['Invoice/Item Number']))\n",
    "\n",
    "#-----------------------------------#\n",
    "dow_sale_byDate_2021 = df_byDate_2021['Sale (Dollars)'].groupby(df_byDate_2021['Day Of Week'].astype(dayOfWeek_category)).sum()                         \n",
    "dow_sale_byDate_2021 = dow_sale_byDate_2021.apply(lambda x: f'${x:,.0f}').to_frame()\n",
    "\n",
    "dow_inv_byDate_2021 = df_byDate_2021['Day Of Week'].astype(dayOfWeek_category).value_counts(sort=False)\n",
    "dow_inv_byDate_2021 = dow_inv_byDate_2021.apply(lambda x: f'{x:,.0f}').to_frame(name='Num of invoice')\n",
    "\n",
    "dow_bottle_byDate_2021 = df_byDate_2021['Bottles Sold'].groupby(df_byDate_2021['Month'].astype(month_category)).sum()\n",
    "dow_bottle_byDate_2021 = dow_bottle_byDate_2021.apply(lambda x: f'{x:,.0f}').to_frame(name='Num of bottle sold')\n",
    "\n",
    "dow_byDate_2021 = pd.concat([dow_sale_byDate_2021, dow_inv_byDate_2021], axis=1, join=\"inner\")\n",
    "\n",
    "#-----------------------------------#\n",
    "month_sale_byDate_2021 = df_byDate_2021['Sale (Dollars)'].groupby(df_byDate_2021['Month'].astype(month_category)).sum()\n",
    "month_sale_byDate_2021 = month_sale_byDate_2021.apply(lambda x: f'${x:,.0f}').to_frame()\n",
    "\n",
    "month_inv_byDate_2021 = df_byDate_2021['Month'].value_counts(sort=False)\n",
    "month_inv_byDate_2021 = month_inv_byDate_2021.apply(lambda x: f'{x:,.0f}').to_frame(name='Num of invoice')\n",
    "\n",
    "month_bottle_byDate_2021 = df_byDate_2021['Bottles Sold'].groupby(df_byDate_2021['Month'].astype(month_category)).sum()\n",
    "month_bottle_byDate_2021 = month_bottle_byDate_2021.apply(lambda x: f'{x:,.0f}').to_frame(name='Num of bottle sold')\n",
    "\n",
    "month_byDate_2021 = pd.concat([month_sale_byDate_2021, month_inv_byDate_2021, month_bottle_byDate_2021], axis=1, join=\"inner\")\n",
    "\n",
    "#-----------------------------------#\n",
    "#store_sale_2021 = df_2021.groupby(['Store Number','Store Name','Address','City','Zip Code', \n",
    "#                                   'Store Location','County'])['Sale (Dollars)'].sum().nlargest(10)\n",
    "store_sale_byDate_2021 = df_byDate_2021.groupby(['Store Name'])['Sale (Dollars)'].sum().nlargest(10)                                   \n",
    "store_sale_byDate_2021 = store_sale_byDate_2021.apply(lambda x: f'${x:,.0f}').to_frame()\n",
    "\n",
    "store_inv_byDate_2021 = df_byDate_2021['Store Name'].value_counts().nlargest(10)\n",
    "store_inv_byDate_2021 = store_inv_byDate_2021.apply(lambda x: f'{x:,.0f}').to_frame(name='Num of invoice')\n",
    "\n",
    "#-----------------------------------#\n",
    "city_sale_byDate_2021 = df_byDate_2021.groupby(['City'])['Sale (Dollars)'].sum().nlargest(10)                                   \n",
    "city_sale_byDate_2021 = city_sale_byDate_2021.apply(lambda x: f'${x:,.0f}').to_frame()\n",
    "\n",
    "city_inv_byDate_2021 = df_byDate_2021['City'].value_counts().nlargest(10)\n",
    "city_inv_byDate_2021 = city_inv_byDate_2021.apply(lambda x: f'{x:,.0f}').to_frame(name='Num of invoice')\n",
    "\n",
    "#-----------------------------------#\n",
    "county_sale_byDate_2021 = df_byDate_2021.groupby(['County'])['Sale (Dollars)'].sum().nlargest(10)                                   \n",
    "county_sale_byDate_2021 = county_sale_byDate_2021.apply(lambda x: f'${x:,.0f}').to_frame()\n",
    "\n",
    "county_inv_byDate_2021 = df_byDate_2021['County'].value_counts().nlargest(10)\n",
    "county_inv_byDate_2021 = county_inv_byDate_2021.apply(lambda x: f'{x:,.0f}').to_frame(name='Num of invoice')\n",
    "\n",
    "#-----------------------------------#\n",
    "catname_sale_byDate_2021 = df_byDate_2021.groupby(['Category Name'])['Sale (Dollars)'].sum().nlargest(10)                                   \n",
    "catname_sale_byDate_2021 = catname_sale_byDate_2021.apply(lambda x: f'${x:,.0f}').to_frame()\n",
    "\n",
    "catname_inv_byDate_2021 = df_byDate_2021['Category Name'].value_counts().nlargest(10)\n",
    "catname_inv_byDate_2021 = catname_inv_byDate_2021.apply(lambda x: f'{x:,.0f}').to_frame(name='Num of invoice')\n",
    "\n",
    "#-----------------------------------#\n",
    "vendor_sale_byDate_2021 = df_byDate_2021.groupby(['Vendor Name'])['Sale (Dollars)'].sum().nlargest(10)                                   \n",
    "vendor_sale_byDate_2021 = vendor_sale_byDate_2021.apply(lambda x: f'${x:,.0f}').to_frame()\n",
    "\n",
    "vendor_inv_byDate_2021 = df_byDate_2021['Vendor Name'].value_counts().nlargest(10)\n",
    "vendor_inv_byDate_2021 = vendor_inv_byDate_2021.apply(lambda x: f'{x:,.0f}').to_frame(name='Num of invoice')\n",
    "\n",
    "#-----------------------------------#\n",
    "item_sale_byDate_2021 = df_byDate_2021.groupby(['Item Description'])['Sale (Dollars)'].sum().nlargest(10)                                   \n",
    "item_sale_byDate_2021 = item_sale_byDate_2021.apply(lambda x: f'${x:,.0f}').to_frame()\n",
    "\n",
    "item_inv_byDate_2021 = df_byDate_2021['Item Description'].value_counts().nlargest(10)\n",
    "item_inv_byDate_2021 = item_inv_byDate_2021.apply(lambda x: f'{x:,.0f}').to_frame(name='Num of invoice')\n",
    "\n",
    "#-----------------------------------#\n",
    "print(f\"_____2021-01-03 Sale_____\\n\")\n",
    "print(f\"Total sale: {sale_byDate_2021}\")\n",
    "print(f\"Total invoice: {inv_byDate_2021}\")\n",
    "print(\"#-----------------------------------#\")\n",
    "print(f\"Day of Week with Best Sales:\\n {dow_byDate_2021}\")\n",
    "print(\"#-----------------------------------#\")\n",
    "print(f\"Month with Best Sales:\\n {month_byDate_2021}\")\n",
    "print(\"#-----------------------------------#\")\n",
    "print(f\"Store (sales) with Best Sales:\\n {store_sale_byDate_2021}\")\n",
    "print(\"#-----------------------------------#\")\n",
    "print(f\"Store (invoices) with Best Sales:\\n {store_inv_byDate_2021}\")\n",
    "print(\"#-----------------------------------#\")\n",
    "print(f\"County (sales) with Best Sales:\\n {city_sale_byDate_2021}\")\n",
    "print(\"#-----------------------------------#\")\n",
    "print(f\"County (invoices) with Best Sales:\\n {city_inv_byDate_2021}\")\n",
    "print(\"#-----------------------------------#\")\n",
    "print(f\"City (sales) with Best Sales:\\n {county_sale_byDate_2021}\")\n",
    "print(\"#-----------------------------------#\")\n",
    "print(f\"City (invoices) with Best Sales:\\n {county_inv_byDate_2021}\")\n",
    "print(\"#-----------------------------------#\")\n",
    "print(f\"Category (sales) with Best Sales:\\n {catname_sale_byDate_2021}\")\n",
    "print(\"#-----------------------------------#\")\n",
    "print(f\"Category (invoices) with Best Sales:\\n {catname_inv_byDate_2021}\")\n",
    "print(\"#-----------------------------------#\")\n",
    "print(f\"Vendor (sales) with Best Sales:\\n {vendor_sale_byDate_2021}\")\n",
    "print(\"#-----------------------------------#\")\n",
    "print(f\"Vendor (invoices) with Best Sales:\\n {vendor_inv_byDate_2021}\")\n",
    "print(\"#-----------------------------------#\")\n",
    "print(f\"Item (sales) with Best Sales:\\n {item_sale_byDate_2021}\")\n",
    "print(\"#-----------------------------------#\")\n",
    "print(f\"Item (invoices) with Best Sales:\\n {item_inv_byDate_2021}\")"
   ]
  },
  {
   "cell_type": "code",
   "execution_count": null,
   "id": "fb839223",
   "metadata": {},
   "outputs": [],
   "source": [
    "# filter df with a date\n",
    "def df_byDate(df, full_date):\n",
    "    return df[df['Date'] == full_date]"
   ]
  },
  {
   "cell_type": "code",
   "execution_count": null,
   "id": "91b079b4",
   "metadata": {},
   "outputs": [],
   "source": [
    "df_byDate_2021 = df_byDate(df_2021, '2021-01-02')"
   ]
  },
  {
   "cell_type": "code",
   "execution_count": null,
   "id": "4223dd58",
   "metadata": {},
   "outputs": [],
   "source": [
    "dow_sale_byDate_2021 = df_byDate_2021['Sale (Dollars)'].groupby(df_byDate_2021['Day Of Week'].astype(dayOfWeek_category)).sum()                         \n",
    "dow_inv_byDate_2021 = df_byDate_2021['Day Of Week'].astype(dayOfWeek_category).value_counts(sort=False)\n",
    "\n",
    "plot_dow_bestsale_graph(dow_sale_byDate_2021, dow_inv_byDate_2021)"
   ]
  },
  {
   "cell_type": "code",
   "execution_count": null,
   "id": "21a59878",
   "metadata": {},
   "outputs": [],
   "source": [
    "month_sale_byDate_2021 = df_byDate_2021['Sale (Dollars)'].groupby(df_byDate_2021['Month'].astype(month_category)).sum()\n",
    "month_inv_byDate_2021 = df_byDate_2021['Month'].value_counts(sort=False)\n",
    "\n",
    "plot_month_bestsale_graph(month_sale_byDate_2021, month_inv_byDate_2021)"
   ]
  },
  {
   "cell_type": "code",
   "execution_count": null,
   "id": "eed929d3",
   "metadata": {},
   "outputs": [],
   "source": [
    "store_sale_byDate_2021 = df_byDate_2021.groupby(['Store Name'])['Sale (Dollars)'].sum().nlargest(10)   \n",
    "\n",
    "plot_top10store_bestsale_graph(store_sale_byDate_2021)"
   ]
  },
  {
   "cell_type": "code",
   "execution_count": null,
   "id": "4b44140e",
   "metadata": {},
   "outputs": [],
   "source": [
    "store_inv_byDate_2021 = df_byDate_2021['Store Name'].value_counts().nlargest(10)\n",
    "\n",
    "plot_top10store_bestinv_graph(store_inv_byDate_2021)"
   ]
  },
  {
   "cell_type": "code",
   "execution_count": null,
   "id": "3c15ebc9",
   "metadata": {},
   "outputs": [],
   "source": [
    "city_sale_byDate_2021 = df_byDate_2021.groupby(['City'])['Sale (Dollars)'].sum().nlargest(10)  \n",
    "\n",
    "plot_top10city_bestsale_graph(city_sale_byDate_2021)"
   ]
  },
  {
   "cell_type": "code",
   "execution_count": null,
   "id": "eab2e2bb",
   "metadata": {},
   "outputs": [],
   "source": [
    "city_inv_byDate_2021 = df_byDate_2021['City'].value_counts().nlargest(10)\n",
    "\n",
    "plot_top10city_bestinv_graph(city_inv_byDate_2021)"
   ]
  },
  {
   "cell_type": "code",
   "execution_count": null,
   "id": "54613466",
   "metadata": {},
   "outputs": [],
   "source": [
    "county_sale_byDate_2021 = df_byDate_2021.groupby(['County'])['Sale (Dollars)'].sum().nlargest(10)   \n",
    "\n",
    "plot_top10county_bestsale_graph(county_sale_byDate_2021)"
   ]
  },
  {
   "cell_type": "code",
   "execution_count": null,
   "id": "e3b6a4ab",
   "metadata": {},
   "outputs": [],
   "source": [
    "county_inv_byDate_2021 = df_byDate_2021['County'].value_counts().nlargest(10)\n",
    "\n",
    "plot_top10county_bestinv_graph(county_inv_byDate_2021)"
   ]
  },
  {
   "cell_type": "code",
   "execution_count": null,
   "id": "7ee67cf5",
   "metadata": {},
   "outputs": [],
   "source": [
    "catname_sale_byDate_2021 = df_byDate_2021.groupby(['Category Name'])['Sale (Dollars)'].sum().nlargest(10)                                   \n",
    "\n",
    "plot_top10cat_bestsale_graph(catname_sale_byDate_2021)"
   ]
  },
  {
   "cell_type": "code",
   "execution_count": null,
   "id": "947fa3b3",
   "metadata": {},
   "outputs": [],
   "source": [
    "catname_inv_byDate_2021 = df_byDate_2021['Category Name'].value_counts().nlargest(10)\n",
    "\n",
    "plot_top10cat_bestinv_graph(catname_inv_byDate_2021)"
   ]
  },
  {
   "cell_type": "code",
   "execution_count": null,
   "id": "9e24da06",
   "metadata": {},
   "outputs": [],
   "source": [
    "vendor_sale_byDate_2021 = df_byDate_2021.groupby(['Vendor Name'])['Sale (Dollars)'].sum().nlargest(10)                                   \n",
    "\n",
    "plot_top10vendors_bestsale_graph(vendor_sale_byDate_2021)"
   ]
  },
  {
   "cell_type": "code",
   "execution_count": null,
   "id": "e9e10c65",
   "metadata": {},
   "outputs": [],
   "source": [
    "vendor_inv_byDate_2021 = df_byDate_2021['Vendor Name'].value_counts().nlargest(10)\n",
    "\n",
    "plot_top10vendors_bestinv_graph(vendor_inv_byDate_2021)"
   ]
  },
  {
   "cell_type": "code",
   "execution_count": null,
   "id": "c3a9b83e",
   "metadata": {},
   "outputs": [],
   "source": [
    "item_sale_byDate_2021 = df_byDate_2021.groupby(['Item Description'])['Sale (Dollars)'].sum().nlargest(10)                                   \n",
    "\n",
    "plot_top10items_bestsale_graph(item_sale_byDate_2021)"
   ]
  },
  {
   "cell_type": "code",
   "execution_count": null,
   "id": "d88e2181",
   "metadata": {},
   "outputs": [],
   "source": [
    "item_inv_byDate_2021 = df_byDate_2021['Item Description'].value_counts().nlargest(10)\n",
    "\n",
    "plot_top10items_bestinv_graph(item_inv_byDate_2021)"
   ]
  },
  {
   "cell_type": "markdown",
   "id": "3f7f545a",
   "metadata": {},
   "source": [
    "### Query by Date to Date (Same year)"
   ]
  },
  {
   "cell_type": "code",
   "execution_count": null,
   "id": "1ef5e77c",
   "metadata": {
    "scrolled": true
   },
   "outputs": [],
   "source": [
    "# By Date\n",
    "# 2021-01-03 to 2021-01-04\n",
    "\n",
    "df_byDateToDate_2021 = df_2021[(df_2021['Date'] >= '2021-01-03') & (df_2021['Date'] <= '2021-01-04')]\n",
    "\n",
    "sale_byDateToDate_2021 = '${:,.0f}'.format(df_byDateToDate_2021['Sale (Dollars)'].sum())\n",
    "inv_byDateToDate_2021 = '{:,.0f}'.format(len(df_byDateToDate_2021['Invoice/Item Number']))\n",
    "\n",
    "#-----------------------------------#\n",
    "dow_sale_byDateToDate_2021 = df_byDateToDate_2021['Sale (Dollars)'].groupby(df_byDateToDate_2021['Day Of Week'].astype(dayOfWeek_category)).sum()                         \n",
    "dow_sale_byDateToDate_2021 = dow_sale_byDateToDate_2021.apply(lambda x: f'${x:,.0f}').to_frame()\n",
    "\n",
    "dow_inv_byDateToDate_2021 = df_byDateToDate_2021['Day Of Week'].astype(dayOfWeek_category).value_counts(sort=False)\n",
    "dow_inv_byDateToDate_2021 = dow_inv_byDateToDate_2021.apply(lambda x: f'{x:,.0f}').to_frame(name='Num of invoice')\n",
    "\n",
    "dow_bottle_byDateToDate_2021 = df_byDateToDate_2021['Bottles Sold'].groupby(df_byDateToDate_2021['Month'].astype(month_category)).sum()\n",
    "dow_bottle_byDateToDate_2021 = dow_bottle_byDateToDate_2021.apply(lambda x: f'{x:,.0f}').to_frame(name='Num of bottle sold')\n",
    "\n",
    "dow_byDateToDate_2021 = pd.concat([dow_sale_byDateToDate_2021, dow_inv_byDateToDate_2021], axis=1, join=\"inner\")\n",
    "\n",
    "#-----------------------------------#\n",
    "month_sale_byDateToDate_2021 = df_byDateToDate_2021['Sale (Dollars)'].groupby(df_byDateToDate_2021['Month'].astype(month_category)).sum()\n",
    "month_sale_byDateToDate_2021 = month_sale_byDateToDate_2021.apply(lambda x: f'${x:,.0f}').to_frame()\n",
    "\n",
    "month_inv_byDateToDate_2021 = df_byDateToDate_2021['Month'].value_counts(sort=False)\n",
    "month_inv_byDateToDate_2021 = month_inv_byDateToDate_2021.apply(lambda x: f'{x:,.0f}').to_frame(name='Num of invoice')\n",
    "\n",
    "month_bottle_byDateToDate_2021 = df_byDateToDate_2021['Bottles Sold'].groupby(df_byDateToDate_2021['Month'].astype(month_category)).sum()\n",
    "month_bottle_byDateToDate_2021 = month_bottle_byDateToDate_2021.apply(lambda x: f'{x:,.0f}').to_frame(name='Num of bottle sold')\n",
    "\n",
    "month_byDateToDate_2021 = pd.concat([month_sale_byDateToDate_2021, month_inv_byDateToDate_2021, month_bottle_byDateToDate_2021], axis=1, join=\"inner\")\n",
    "\n",
    "#-----------------------------------#\n",
    "#store_sale_2021 = df_2021.groupby(['Store Number','Store Name','Address','City','Zip Code', \n",
    "#                                   'Store Location','County'])['Sale (Dollars)'].sum().nlargest(10)\n",
    "store_sale_byDateToDate_2021 = df_byDateToDate_2021.groupby(['Store Name'])['Sale (Dollars)'].sum().nlargest(10)                                   \n",
    "store_sale_byDateToDate_2021 = store_sale_byDateToDate_2021.apply(lambda x: f'${x:,.0f}').to_frame()\n",
    "\n",
    "store_inv_byDateToDate_2021 = df_byDateToDate_2021['Store Name'].value_counts().nlargest(10)\n",
    "store_inv_byDateToDate_2021 = store_inv_byDateToDate_2021.apply(lambda x: f'{x:,.0f}').to_frame(name='Num of invoice')\n",
    "\n",
    "#-----------------------------------#\n",
    "city_sale_byDateToDate_2021 = df_byDateToDate_2021.groupby(['City'])['Sale (Dollars)'].sum().nlargest(10)                                   \n",
    "city_sale_byDateToDate_2021 = city_sale_byDateToDate_2021.apply(lambda x: f'${x:,.0f}').to_frame()\n",
    "\n",
    "city_inv_byDateToDate_2021 = df_byDateToDate_2021['City'].value_counts().nlargest(10)\n",
    "city_inv_byDateToDate_2021 = city_inv_byDateToDate_2021.apply(lambda x: f'{x:,.0f}').to_frame(name='Num of invoice')\n",
    "\n",
    "#-----------------------------------#\n",
    "county_sale_byDateToDate_2021 = df_byDateToDate_2021.groupby(['County'])['Sale (Dollars)'].sum().nlargest(10)                                   \n",
    "county_sale_byDateToDate_2021 = county_sale_byDateToDate_2021.apply(lambda x: f'${x:,.0f}').to_frame()\n",
    "\n",
    "county_inv_byDateToDate_2021 = df_byDateToDate_2021['County'].value_counts().nlargest(10)\n",
    "county_inv_byDateToDate_2021 = county_inv_byDateToDate_2021.apply(lambda x: f'{x:,.0f}').to_frame(name='Num of invoice')\n",
    "\n",
    "#-----------------------------------#\n",
    "catname_sale_byDateToDate_2021 = df_byDateToDate_2021.groupby(['Category Name'])['Sale (Dollars)'].sum().nlargest(10)                                   \n",
    "catname_sale_byDateToDate_2021 = catname_sale_byDateToDate_2021.apply(lambda x: f'${x:,.0f}').to_frame()\n",
    "\n",
    "catname_inv_byDateToDate_2021 = df_byDateToDate_2021['Category Name'].value_counts().nlargest(10)\n",
    "catname_inv_byDateToDate_2021 = catname_inv_byDateToDate_2021.apply(lambda x: f'{x:,.0f}').to_frame(name='Num of invoice')\n",
    "\n",
    "#-----------------------------------#\n",
    "vendor_sale_byDateToDate_2021 = df_byDateToDate_2021.groupby(['Vendor Name'])['Sale (Dollars)'].sum().nlargest(10)                                   \n",
    "vendor_sale_byDateToDate_2021 = vendor_sale_byDateToDate_2021.apply(lambda x: f'${x:,.0f}').to_frame()\n",
    "\n",
    "vendor_inv_byDateToDate_2021 = df_byDateToDate_2021['Vendor Name'].value_counts().nlargest(10)\n",
    "vendor_inv_byDateToDate_2021 = vendor_inv_byDateToDate_2021.apply(lambda x: f'{x:,.0f}').to_frame(name='Num of invoice')\n",
    "\n",
    "#-----------------------------------#\n",
    "item_sale_byDateToDate_2021 = df_byDateToDate_2021.groupby(['Item Description'])['Sale (Dollars)'].sum().nlargest(10)                                   \n",
    "item_sale_byDateToDate_2021 = item_sale_byDateToDate_2021.apply(lambda x: f'${x:,.0f}').to_frame()\n",
    "\n",
    "item_inv_byDateToDate_2021 = df_byDateToDate_2021['Item Description'].value_counts().nlargest(10)\n",
    "item_inv_byDateToDate_2021 = item_inv_byDateToDate_2021.apply(lambda x: f'{x:,.0f}').to_frame(name='Num of invoice')\n",
    "\n",
    "#-----------------------------------#\n",
    "print(f\"_____2021-01-03 to 2021-01-04 Sale_____\\n\")\n",
    "print(f\"Total sale: {sale_byDateToDate_2021}\")\n",
    "print(f\"Total invoice: {inv_byDateToDate_2021}\")\n",
    "print(\"#-----------------------------------#\")\n",
    "print(f\"Day of Week with Best Sales:\\n {dow_byDateToDate_2021}\")\n",
    "print(\"#-----------------------------------#\")\n",
    "print(f\"Month with Best Sales:\\n {month_byDateToDate_2021}\")\n",
    "print(\"#-----------------------------------#\")\n",
    "print(f\"Store (sales) with Best Sales:\\n {store_sale_byDateToDate_2021}\")\n",
    "print(\"#-----------------------------------#\")\n",
    "print(f\"Store (invoices) with Best Sales:\\n {store_inv_byDateToDate_2021}\")\n",
    "print(\"#-----------------------------------#\")\n",
    "print(f\"County (sales) with Best Sales:\\n {city_sale_byDateToDate_2021}\")\n",
    "print(\"#-----------------------------------#\")\n",
    "print(f\"County (invoices) with Best Sales:\\n {city_inv_byDateToDate_2021}\")\n",
    "print(\"#-----------------------------------#\")\n",
    "print(f\"City (sales) with Best Sales:\\n {county_sale_byDateToDate_2021}\")\n",
    "print(\"#-----------------------------------#\")\n",
    "print(f\"City (invoices) with Best Sales:\\n {county_inv_byDateToDate_2021}\")\n",
    "print(\"#-----------------------------------#\")\n",
    "print(f\"Category (sales) with Best Sales:\\n {catname_sale_byDateToDate_2021}\")\n",
    "print(\"#-----------------------------------#\")\n",
    "print(f\"Category (invoices) with Best Sales:\\n {catname_inv_byDateToDate_2021}\")\n",
    "print(\"#-----------------------------------#\")\n",
    "print(f\"Vendor (sales) with Best Sales:\\n {vendor_sale_byDateToDate_2021}\")\n",
    "print(\"#-----------------------------------#\")\n",
    "print(f\"Vendor (invoices) with Best Sales:\\n {vendor_inv_byDateToDate_2021}\")\n",
    "print(\"#-----------------------------------#\")\n",
    "print(f\"Item (sales) with Best Sales:\\n {item_sale_byDateToDate_2021}\")\n",
    "print(\"#-----------------------------------#\")\n",
    "print(f\"Item (invoices) with Best Sales:\\n {item_inv_byDateToDate_2021}\")"
   ]
  },
  {
   "cell_type": "code",
   "execution_count": null,
   "id": "ec84153a",
   "metadata": {},
   "outputs": [],
   "source": [
    "# filter df with from date to date\n",
    "def df_byDateToDate(df, fromDate, toDate):\n",
    "    return df[(df['Date'] >= fromDate) & (df['Date'] <= toDate)]"
   ]
  },
  {
   "cell_type": "code",
   "execution_count": null,
   "id": "1a5e9197",
   "metadata": {},
   "outputs": [],
   "source": [
    "df_byDateToDate_2021 = df_byDateToDate(df_2021, '2021-01-02', '2021-01-05')"
   ]
  },
  {
   "cell_type": "code",
   "execution_count": null,
   "id": "44c6ae7f",
   "metadata": {},
   "outputs": [],
   "source": [
    "dow_sale_byDateToDate_2021 = df_byDateToDate_2021['Sale (Dollars)'].groupby(df_byDateToDate_2021['Day Of Week'].astype(dayOfWeek_category)).sum()                         \n",
    "dow_inv_byDateToDate_2021 = df_byDateToDate_2021['Day Of Week'].astype(dayOfWeek_category).value_counts(sort=False)\n",
    "\n",
    "plot_dow_bestsale_graph(dow_sale_byDateToDate_2021, dow_inv_byDateToDate_2021)"
   ]
  },
  {
   "cell_type": "code",
   "execution_count": null,
   "id": "e87a46b6",
   "metadata": {},
   "outputs": [],
   "source": [
    "month_sale_byDateToDate_2021 = df_byDateToDate_2021['Sale (Dollars)'].groupby(df_byDateToDate_2021['Month'].astype(month_category)).sum()\n",
    "month_inv_byDateToDate_2021 = df_byDateToDate_2021['Month'].value_counts(sort=False)\n",
    "\n",
    "plot_month_bestsale_graph(month_sale_byDateToDate_2021, month_inv_byDateToDate_2021)"
   ]
  },
  {
   "cell_type": "code",
   "execution_count": null,
   "id": "74f4f862",
   "metadata": {},
   "outputs": [],
   "source": [
    "store_sale_byDateToDate_2021 = df_byDateToDate_2021.groupby(['Store Name'])['Sale (Dollars)'].sum().nlargest(10)                                   \n",
    "\n",
    "plot_top10store_bestsale_graph(store_sale_byDateToDate_2021)"
   ]
  },
  {
   "cell_type": "code",
   "execution_count": null,
   "id": "68ca7d16",
   "metadata": {},
   "outputs": [],
   "source": [
    "store_inv_byDateToDate_2021 = df_byDateToDate_2021['Store Name'].value_counts().nlargest(10)\n",
    "\n",
    "plot_top10store_bestinv_graph(store_inv_byDateToDate_2021)"
   ]
  },
  {
   "cell_type": "code",
   "execution_count": null,
   "id": "9342bef2",
   "metadata": {},
   "outputs": [],
   "source": [
    "city_sale_byDateToDate_2021 = df_byDateToDate_2021.groupby(['City'])['Sale (Dollars)'].sum().nlargest(10)                                   \n",
    "\n",
    "\n",
    "plot_top10city_bestsale_graph(city_sale_byDateToDate_2021)"
   ]
  },
  {
   "cell_type": "code",
   "execution_count": null,
   "id": "3ac82dda",
   "metadata": {},
   "outputs": [],
   "source": [
    "city_inv_byDateToDate_2021 = df_byDateToDate_2021['City'].value_counts().nlargest(10)\n",
    "\n",
    "plot_top10city_bestinv_graph(city_inv_byDateToDate_2021)"
   ]
  },
  {
   "cell_type": "code",
   "execution_count": null,
   "id": "e9aaf0aa",
   "metadata": {},
   "outputs": [],
   "source": [
    "county_sale_byDateToDate_2021 = df_byDateToDate_2021.groupby(['County'])['Sale (Dollars)'].sum().nlargest(10)                                   \n",
    "\n",
    "plot_top10county_bestsale_graph(county_sale_byDateToDate_2021)"
   ]
  },
  {
   "cell_type": "code",
   "execution_count": null,
   "id": "32c0e972",
   "metadata": {},
   "outputs": [],
   "source": [
    "county_inv_byDateToDate_2021 = df_byDateToDate_2021['County'].value_counts().nlargest(10)\n",
    "\n",
    "plot_top10county_bestinv_graph(county_inv_byDateToDate_2021)"
   ]
  },
  {
   "cell_type": "code",
   "execution_count": null,
   "id": "b1e4d9f0",
   "metadata": {},
   "outputs": [],
   "source": [
    "catname_sale_byDateToDate_2021 = df_byDateToDate_2021.groupby(['Category Name'])['Sale (Dollars)'].sum().nlargest(10)                                   \n",
    "\n",
    "plot_top10cat_bestsale_graph(catname_sale_byDateToDate_2021)"
   ]
  },
  {
   "cell_type": "code",
   "execution_count": null,
   "id": "bf161363",
   "metadata": {},
   "outputs": [],
   "source": [
    "catname_inv_byDateToDate_2021 = df_byDateToDate_2021['Category Name'].value_counts().nlargest(10)\n",
    "\n",
    "plot_top10cat_bestinv_graph(catname_inv_byDateToDate_2021)"
   ]
  },
  {
   "cell_type": "code",
   "execution_count": null,
   "id": "d0e92e64",
   "metadata": {},
   "outputs": [],
   "source": [
    "vendor_sale_byDateToDate_2021 = df_byDateToDate_2021.groupby(['Vendor Name'])['Sale (Dollars)'].sum().nlargest(10)                                   \n",
    "\n",
    "plot_top10vendors_bestsale_graph(vendor_sale_byDateToDate_2021)"
   ]
  },
  {
   "cell_type": "code",
   "execution_count": null,
   "id": "73f458c3",
   "metadata": {},
   "outputs": [],
   "source": [
    "vendor_inv_byDateToDate_2021 = df_byDateToDate_2021['Vendor Name'].value_counts().nlargest(10)\n",
    "\n",
    "plot_top10vendors_bestinv_graph(vendor_inv_byDateToDate_2021)"
   ]
  },
  {
   "cell_type": "code",
   "execution_count": null,
   "id": "394eea37",
   "metadata": {},
   "outputs": [],
   "source": [
    "item_sale_byDateToDate_2021 = df_byDateToDate_2021.groupby(['Item Description'])['Sale (Dollars)'].sum().nlargest(10)                                   \n",
    "\n",
    "plot_top10items_bestsale_graph(item_sale_byDateToDate_2021)"
   ]
  },
  {
   "cell_type": "code",
   "execution_count": null,
   "id": "f807ee99",
   "metadata": {},
   "outputs": [],
   "source": [
    "item_inv_byDateToDate_2021 = df_byDateToDate_2021['Item Description'].value_counts().nlargest(10)\n",
    "\n",
    "plot_top10items_bestinv_graph(item_inv_byDateToDate_2021)"
   ]
  },
  {
   "cell_type": "markdown",
   "id": "915da546",
   "metadata": {},
   "source": [
    "### Query By Store"
   ]
  },
  {
   "cell_type": "code",
   "execution_count": null,
   "id": "65161592",
   "metadata": {
    "scrolled": true
   },
   "outputs": [],
   "source": [
    "# By Store\n",
    "# 2549\n",
    "\n",
    "df_byStore_2021 = df_2021[df_2021['Store Number'] == '2549']\n",
    "\n",
    "sale_byStore_2021 = '${:,.0f}'.format(df_byStore_2021['Sale (Dollars)'].sum())\n",
    "inv_byStore_2021 = '{:,.0f}'.format(len(df_byStore_2021['Invoice/Item Number']))\n",
    "\n",
    "#-----------------------------------#\n",
    "dow_sale_byStore_2021 = df_byStore_2021['Sale (Dollars)'].groupby(df_byStore_2021['Day Of Week'].astype(dayOfWeek_category)).sum()                         \n",
    "dow_sale_byStore_2021 = dow_sale_byStore_2021.apply(lambda x: f'${x:,.0f}').to_frame()\n",
    "\n",
    "dow_inv_byStore_2021 = df_byStore_2021['Day Of Week'].astype(dayOfWeek_category).value_counts(sort=False)\n",
    "dow_inv_byStore_2021 = dow_inv_byStore_2021.apply(lambda x: f'{x:,.0f}').to_frame(name='Num of invoice')\n",
    "\n",
    "dow_bottle_byStore_2021 = df_byStore_2021['Bottles Sold'].groupby(df_byStore_2021['Month'].astype(month_category)).sum()\n",
    "dow_bottle_byStore_2021 = dow_bottle_byStore_2021.apply(lambda x: f'{x:,.0f}').to_frame(name='Num of bottle sold')\n",
    "\n",
    "dow_byStore_2021 = pd.concat([dow_sale_byStore_2021, dow_inv_byStore_2021], axis=1, join=\"inner\")\n",
    "\n",
    "#-----------------------------------#\n",
    "month_sale_byStore_2021 = df_byStore_2021['Sale (Dollars)'].groupby(df_byStore_2021['Month'].astype(month_category)).sum()\n",
    "month_sale_byStore_2021 = month_sale_byStore_2021.apply(lambda x: f'${x:,.0f}').to_frame()\n",
    "\n",
    "month_inv_byStore_2021 = df_byStore_2021['Month'].value_counts(sort=False)\n",
    "month_inv_byStore_2021 = month_inv_byStore_2021.apply(lambda x: f'{x:,.0f}').to_frame(name='Num of invoice')\n",
    "\n",
    "month_bottle_byStore_2021 = df_byStore_2021['Bottles Sold'].groupby(df_byStore_2021['Month'].astype(month_category)).sum()\n",
    "month_bottle_byStore_2021 = month_bottle_byStore_2021.apply(lambda x: f'{x:,.0f}').to_frame(name='Num of bottle sold')\n",
    "\n",
    "month_byStore_2021 = pd.concat([month_sale_byStore_2021, month_inv_byStore_2021, month_bottle_byStore_2021], axis=1, join=\"inner\")\n",
    "\n",
    "#-----------------------------------#\n",
    "catname_sale_byStore_2021 = df_byStore_2021.groupby(['Category Name'])['Sale (Dollars)'].sum().nlargest(10)                                   \n",
    "catname_sale_byStore_2021 = catname_sale_byStore_2021.apply(lambda x: f'${x:,.0f}').to_frame()\n",
    "\n",
    "catname_inv_byStore_2021 = df_byStore_2021['Category Name'].value_counts().nlargest(10)\n",
    "catname_inv_byStore_2021 = catname_inv_byStore_2021.apply(lambda x: f'{x:,.0f}').to_frame(name='Num of invoice')\n",
    "\n",
    "#-----------------------------------#\n",
    "vendor_sale_byStore_2021 = df_byStore_2021.groupby(['Vendor Name'])['Sale (Dollars)'].sum().nlargest(10)                                   \n",
    "vendor_sale_byStore_2021 = vendor_sale_byStore_2021.apply(lambda x: f'${x:,.0f}').to_frame()\n",
    "\n",
    "vendor_inv_byStore_2021 = df_byStore_2021['Vendor Name'].value_counts().nlargest(10)\n",
    "vendor_inv_byStore_2021 = vendor_inv_byStore_2021.apply(lambda x: f'{x:,.0f}').to_frame(name='Num of invoice')\n",
    "\n",
    "#-----------------------------------#\n",
    "item_sale_byStore_2021 = df_byStore_2021.groupby(['Item Description'])['Sale (Dollars)'].sum().nlargest(10)                                   \n",
    "item_sale_byStore_2021 = item_sale_byStore_2021.apply(lambda x: f'${x:,.0f}').to_frame()\n",
    "\n",
    "item_inv_byStore_2021 = df_byStore_2021['Item Description'].value_counts().nlargest(10)\n",
    "item_inv_byStore_2021 = item_inv_byStore_2021.apply(lambda x: f'{x:,.0f}').to_frame(name='Num of invoice')\n",
    "\n",
    "#-----------------------------------#\n",
    "print(f\"_____Store Sale_____\\n\")\n",
    "print(f\"Total sale: {sale_byStore_2021}\")\n",
    "print(f\"Total invoice: {inv_byStore_2021}\")\n",
    "print(\"#-----------------------------------#\")\n",
    "print(f\"Day of Week with Best Sales:\\n {dow_byStore_2021}\")\n",
    "print(\"#-----------------------------------#\")\n",
    "print(f\"Month with Best Sales:\\n {month_byStore_2021}\")\n",
    "print(\"#-----------------------------------#\")\n",
    "print(f\"Category (sales) with Best Sales:\\n {catname_sale_byStore_2021}\")\n",
    "print(\"#-----------------------------------#\")\n",
    "print(f\"Category (invoices) with Best Sales:\\n {catname_inv_byStore_2021}\")\n",
    "print(\"#-----------------------------------#\")\n",
    "print(f\"Vendor (sales) with Best Sales:\\n {vendor_sale_byStore_2021}\")\n",
    "print(\"#-----------------------------------#\")\n",
    "print(f\"Vendor (invoices) with Best Sales:\\n {vendor_inv_byStore_2021}\")\n",
    "print(\"#-----------------------------------#\")\n",
    "print(f\"Item (sales) with Best Sales:\\n {item_sale_byStore_2021}\")\n",
    "print(\"#-----------------------------------#\")\n",
    "print(f\"Item (invoices) with Best Sales:\\n {item_inv_byStore_2021}\")"
   ]
  },
  {
   "cell_type": "code",
   "execution_count": null,
   "id": "193fff90",
   "metadata": {},
   "outputs": [],
   "source": [
    "# filter df with from date to date\n",
    "def df_byStore(df, storeName):\n",
    "    return df[df['Store Number'] == storeName]"
   ]
  },
  {
   "cell_type": "code",
   "execution_count": null,
   "id": "dddf2eee",
   "metadata": {},
   "outputs": [],
   "source": [
    "df_byStore_2021 = df_byStore(df_2021, '2549')"
   ]
  },
  {
   "cell_type": "code",
   "execution_count": null,
   "id": "6db79cf8",
   "metadata": {},
   "outputs": [],
   "source": [
    "dow_sale_byStore_2021 = df_byStore_2021['Sale (Dollars)'].groupby(df_byStore_2021['Day Of Week'].astype(dayOfWeek_category)).sum()                         \n",
    "dow_inv_byStore_2021 = df_byStore_2021['Day Of Week'].astype(dayOfWeek_category).value_counts(sort=False)\n",
    "\n",
    "plot_dow_bestsale_graph(dow_sale_byStore_2021, dow_inv_byStore_2021)"
   ]
  },
  {
   "cell_type": "code",
   "execution_count": null,
   "id": "9ee9760d",
   "metadata": {},
   "outputs": [],
   "source": [
    "month_sale_byStore_2021 = df_byStore_2021['Sale (Dollars)'].groupby(df_byStore_2021['Month'].astype(month_category)).sum()\n",
    "month_inv_byStore_2021 = df_byStore_2021['Month'].value_counts(sort=False)\n",
    "\n",
    "plot_month_bestsale_graph(month_sale_byStore_2021, month_inv_byStore_2021)"
   ]
  },
  {
   "cell_type": "code",
   "execution_count": null,
   "id": "afe7ebac",
   "metadata": {},
   "outputs": [],
   "source": [
    "catname_sale_byStore_2021 = df_byStore_2021.groupby(['Category Name'])['Sale (Dollars)'].sum().nlargest(10)                                   \n",
    "\n",
    "plot_top10cat_bestsale_graph(catname_sale_byStore_2021)"
   ]
  },
  {
   "cell_type": "code",
   "execution_count": null,
   "id": "23dadf3f",
   "metadata": {},
   "outputs": [],
   "source": [
    "catname_inv_byStore_2021 = df_byStore_2021['Category Name'].value_counts().nlargest(10)\n",
    "\n",
    "plot_top10cat_bestinv_graph(catname_inv_byStore_2021)"
   ]
  },
  {
   "cell_type": "code",
   "execution_count": null,
   "id": "ddc1454d",
   "metadata": {},
   "outputs": [],
   "source": [
    "vendor_sale_byStore_2021 = df_byStore_2021.groupby(['Vendor Name'])['Sale (Dollars)'].sum().nlargest(10)                                   \n",
    "\n",
    "plot_top10vendors_bestsale_graph(vendor_sale_byStore_2021)"
   ]
  },
  {
   "cell_type": "code",
   "execution_count": null,
   "id": "1b83cf1d",
   "metadata": {},
   "outputs": [],
   "source": [
    "vendor_inv_byStore_2021 = df_byStore_2021['Vendor Name'].value_counts().nlargest(10)\n",
    "\n",
    "plot_top10vendors_bestinv_graph(vendor_inv_byStore_2021)"
   ]
  },
  {
   "cell_type": "code",
   "execution_count": null,
   "id": "746ba4d3",
   "metadata": {},
   "outputs": [],
   "source": [
    "item_sale_byStore_2021 = df_byStore_2021.groupby(['Item Description'])['Sale (Dollars)'].sum().nlargest(10)                                   \n",
    "\n",
    "plot_top10items_bestsale_graph(item_sale_byStore_2021)"
   ]
  },
  {
   "cell_type": "code",
   "execution_count": null,
   "id": "2bec1110",
   "metadata": {},
   "outputs": [],
   "source": [
    "item_inv_byStore_2021 = df_byStore_2021['Item Description'].value_counts().nlargest(10)\n",
    "\n",
    "plot_top10items_bestinv_graph(item_inv_byStore_2021)"
   ]
  },
  {
   "cell_type": "markdown",
   "id": "e9711670",
   "metadata": {},
   "source": [
    "### Query by City"
   ]
  },
  {
   "cell_type": "code",
   "execution_count": null,
   "id": "0184f27e",
   "metadata": {
    "scrolled": true
   },
   "outputs": [],
   "source": [
    "# By City\n",
    "# INDIANOLA\n",
    "\n",
    "df_byCity_2021 = df_2021[df_2021['City'] == 'Ames']\n",
    "\n",
    "sale_byCity_2021 = '${:,.0f}'.format(df_byCity_2021['Sale (Dollars)'].sum())\n",
    "inv_byCity_2021 = '{:,.0f}'.format(len(df_byCity_2021['Invoice/Item Number']))\n",
    "\n",
    "#-----------------------------------#\n",
    "dow_sale_byCity_2021 = df_byCity_2021['Sale (Dollars)'].groupby(df_byCity_2021['Day Of Week'].astype(dayOfWeek_category)).sum()                         \n",
    "dow_sale_byCity_2021 = dow_sale_byCity_2021.apply(lambda x: f'${x:,.0f}').to_frame()\n",
    "\n",
    "dow_inv_byCity_2021 = df_byCity_2021['Day Of Week'].astype(dayOfWeek_category).value_counts(sort=False)\n",
    "dow_inv_byCity_2021 = dow_inv_byCity_2021.apply(lambda x: f'{x:,.0f}').to_frame(name='Num of invoice')\n",
    "\n",
    "dow_bottle_byCity_2021 = df_byCity_2021['Bottles Sold'].groupby(df_byCity_2021['Month'].astype(month_category)).sum()\n",
    "dow_bottle_byCity_2021 = dow_bottle_byCity_2021.apply(lambda x: f'{x:,.0f}').to_frame(name='Num of bottle sold')\n",
    "\n",
    "dow_byCity_2021 = pd.concat([dow_sale_byCity_2021, dow_inv_byCity_2021], axis=1, join=\"inner\")\n",
    "\n",
    "#-----------------------------------#\n",
    "month_sale_byCity_2021 = df_byCity_2021['Sale (Dollars)'].groupby(df_byCity_2021['Month'].astype(month_category)).sum()\n",
    "month_sale_byCity_2021 = month_sale_byCity_2021.apply(lambda x: f'${x:,.0f}').to_frame()\n",
    "\n",
    "month_inv_byCity_2021 = df_byCity_2021['Month'].value_counts(sort=False)\n",
    "month_inv_byCity_2021 = month_inv_byCity_2021.apply(lambda x: f'{x:,.0f}').to_frame(name='Num of invoice')\n",
    "\n",
    "month_bottle_byCity_2021 = df_byCity_2021['Bottles Sold'].groupby(df_byCity_2021['Month'].astype(month_category)).sum()\n",
    "month_bottle_byCity_2021 = month_bottle_byCity_2021.apply(lambda x: f'{x:,.0f}').to_frame(name='Num of bottle sold')\n",
    "\n",
    "month_byCity_2021 = pd.concat([month_sale_byCity_2021, month_inv_byCity_2021, month_bottle_byCity_2021], axis=1, join=\"inner\")\n",
    "\n",
    "#-----------------------------------#\n",
    "#store_sale_2021 = df_2021.groupby(['Store Number','Store Name','Address','City','Zip Code', \n",
    "#                                   'Store Location','County'])['Sale (Dollars)'].sum().nlargest(10)\n",
    "store_sale_byCity_2021 = df_byCity_2021.groupby(['Store Name'])['Sale (Dollars)'].sum().nlargest(10)                                   \n",
    "store_sale_byCity_2021 = store_sale_byCity_2021.apply(lambda x: f'${x:,.0f}').to_frame()\n",
    "\n",
    "store_inv_byCity_2021 = df_byCity_2021['Store Name'].value_counts().nlargest(10)\n",
    "store_inv_byCity_2021 = store_inv_byCity_2021.apply(lambda x: f'{x:,.0f}').to_frame(name='Num of invoice')\n",
    "\n",
    "#-----------------------------------#\n",
    "catname_sale_byCity_2021 = df_byCity_2021.groupby(['Category Name'])['Sale (Dollars)'].sum().nlargest(10)                                   \n",
    "catname_sale_byCity_2021 = catname_sale_byCity_2021.apply(lambda x: f'${x:,.0f}').to_frame()\n",
    "\n",
    "catname_inv_byCity_2021 = df_byCity_2021['Category Name'].value_counts().nlargest(10)\n",
    "catname_inv_byCity_2021 = catname_inv_byCity_2021.apply(lambda x: f'{x:,.0f}').to_frame(name='Num of invoice')\n",
    "\n",
    "#-----------------------------------#\n",
    "vendor_sale_byCity_2021 = df_byCity_2021.groupby(['Vendor Name'])['Sale (Dollars)'].sum().nlargest(10)                                   \n",
    "vendor_sale_byCity_2021 = vendor_sale_byCity_2021.apply(lambda x: f'${x:,.0f}').to_frame()\n",
    "\n",
    "vendor_inv_byCity_2021 = df_byCity_2021['Vendor Name'].value_counts().nlargest(10)\n",
    "vendor_inv_byCity_2021 = vendor_inv_byCity_2021.apply(lambda x: f'{x:,.0f}').to_frame(name='Num of invoice')\n",
    "\n",
    "#-----------------------------------#\n",
    "item_sale_byCity_2021 = df_byCity_2021.groupby(['Item Description'])['Sale (Dollars)'].sum().nlargest(10)                                   \n",
    "item_sale_byCity_2021 = item_sale_byCity_2021.apply(lambda x: f'${x:,.0f}').to_frame()\n",
    "\n",
    "item_inv_byCity_2021 = df_byCity_2021['Item Description'].value_counts().nlargest(10)\n",
    "item_inv_byCity_2021 = item_inv_byCity_2021.apply(lambda x: f'{x:,.0f}').to_frame(name='Num of invoice')\n",
    "\n",
    "#-----------------------------------#\n",
    "print(f\"_____City Sale_____\\n\")\n",
    "print(f\"Total sale: {sale_byCity_2021}\")\n",
    "print(f\"Total invoice: {inv_byCity_2021}\")\n",
    "print(\"#-----------------------------------#\")\n",
    "print(f\"Day of Week with Best Sales:\\n {dow_byCity_2021}\")\n",
    "print(\"#-----------------------------------#\")\n",
    "print(f\"Month with Best Sales:\\n {month_byCity_2021}\")\n",
    "print(\"#-----------------------------------#\")\n",
    "print(f\"Store (sales) with Best Sales:\\n {store_sale_byCity_2021}\")\n",
    "print(\"#-----------------------------------#\")\n",
    "print(f\"Store (invoices) with Best Sales:\\n {store_inv_byCity_2021}\")\n",
    "print(\"#-----------------------------------#\")\n",
    "print(f\"Category (sales) with Best Sales:\\n {catname_sale_byCity_2021}\")\n",
    "print(\"#-----------------------------------#\")\n",
    "print(f\"Category (invoices) with Best Sales:\\n {catname_inv_byCity_2021}\")\n",
    "print(\"#-----------------------------------#\")\n",
    "print(f\"Vendor (sales) with Best Sales:\\n {vendor_sale_byCity_2021}\")\n",
    "print(\"#-----------------------------------#\")\n",
    "print(f\"Vendor (invoices) with Best Sales:\\n {vendor_inv_byCity_2021}\")\n",
    "print(\"#-----------------------------------#\")\n",
    "print(f\"Item (sales) with Best Sales:\\n {item_sale_byCity_2021}\")\n",
    "print(\"#-----------------------------------#\")\n",
    "print(f\"Item (invoices) with Best Sales:\\n {item_inv_byCity_2021}\")"
   ]
  },
  {
   "cell_type": "code",
   "execution_count": null,
   "id": "33c245d2",
   "metadata": {},
   "outputs": [],
   "source": [
    "# filter df with from city\n",
    "def df_byCity(df, cityName):\n",
    "    return df[df['City'] == cityName]"
   ]
  },
  {
   "cell_type": "code",
   "execution_count": null,
   "id": "fcc951c8",
   "metadata": {},
   "outputs": [],
   "source": [
    "df_byCity_2021 = df_byCity(df_2021, 'Ames')"
   ]
  },
  {
   "cell_type": "code",
   "execution_count": null,
   "id": "ab9c0b2c",
   "metadata": {},
   "outputs": [],
   "source": [
    "dow_sale_byCity_2021 = df_byCity_2021['Sale (Dollars)'].groupby(df_byCity_2021['Day Of Week'].astype(dayOfWeek_category)).sum()                         \n",
    "dow_inv_byCity_2021 = df_byCity_2021['Day Of Week'].astype(dayOfWeek_category).value_counts(sort=False)\n",
    "\n",
    "plot_dow_bestsale_graph(dow_sale_byCity_2021, dow_inv_byCity_2021)"
   ]
  },
  {
   "cell_type": "code",
   "execution_count": null,
   "id": "e8df8ae0",
   "metadata": {},
   "outputs": [],
   "source": [
    "month_sale_byCity_2021 = df_byCity_2021['Sale (Dollars)'].groupby(df_byCity_2021['Month'].astype(month_category)).sum()\n",
    "month_inv_byCity_2021 = df_byCity_2021['Month'].value_counts(sort=False)\n",
    "\n",
    "plot_month_bestsale_graph(month_sale_byCity_2021, month_inv_byCity_2021)"
   ]
  },
  {
   "cell_type": "code",
   "execution_count": null,
   "id": "c4300855",
   "metadata": {},
   "outputs": [],
   "source": [
    "store_sale_byCity_2021 = df_byCity_2021.groupby(['Store Name'])['Sale (Dollars)'].sum().nlargest(10)                                   \n",
    "\n",
    "plot_top10store_bestsale_graph(store_sale_byCity_2021)"
   ]
  },
  {
   "cell_type": "code",
   "execution_count": null,
   "id": "e442daa8",
   "metadata": {},
   "outputs": [],
   "source": [
    "store_inv_byCity_2021 = df_byCity_2021['Store Name'].value_counts().nlargest(10)\n",
    "\n",
    "plot_top10store_bestinv_graph(store_inv_byCity_2021)"
   ]
  },
  {
   "cell_type": "code",
   "execution_count": null,
   "id": "fed1ff59",
   "metadata": {},
   "outputs": [],
   "source": [
    "catname_sale_byCity_2021 = df_byCity_2021.groupby(['Category Name'])['Sale (Dollars)'].sum().nlargest(10)                                   \n",
    "\n",
    "plot_top10cat_bestsale_graph(catname_sale_byCity_2021)"
   ]
  },
  {
   "cell_type": "code",
   "execution_count": null,
   "id": "24b98c46",
   "metadata": {},
   "outputs": [],
   "source": [
    "catname_inv_byCity_2021 = df_byCity_2021['Category Name'].value_counts().nlargest(10)\n",
    "\n",
    "plot_top10cat_bestinv_graph(catname_inv_byCity_2021)"
   ]
  },
  {
   "cell_type": "code",
   "execution_count": null,
   "id": "9bf93f81",
   "metadata": {},
   "outputs": [],
   "source": [
    "vendor_sale_byCity_2021 = df_byCity_2021.groupby(['Vendor Name'])['Sale (Dollars)'].sum().nlargest(10)                                   \n",
    "\n",
    "plot_top10vendors_bestsale_graph(vendor_sale_byCity_2021)"
   ]
  },
  {
   "cell_type": "code",
   "execution_count": null,
   "id": "9928c6cc",
   "metadata": {},
   "outputs": [],
   "source": [
    "vendor_inv_byCity_2021 = df_byCity_2021['Vendor Name'].value_counts().nlargest(10)\n",
    "\n",
    "plot_top10vendors_bestinv_graph(vendor_inv_byCity_2021)"
   ]
  },
  {
   "cell_type": "code",
   "execution_count": null,
   "id": "9c38640a",
   "metadata": {},
   "outputs": [],
   "source": [
    "item_sale_byCity_2021 = df_byCity_2021.groupby(['Item Description'])['Sale (Dollars)'].sum().nlargest(10)                                   \n",
    "\n",
    "plot_top10items_bestsale_graph(item_sale_byCity_2021)"
   ]
  },
  {
   "cell_type": "code",
   "execution_count": null,
   "id": "27ad0792",
   "metadata": {},
   "outputs": [],
   "source": [
    "item_inv_byCity_2021 = df_byCity_2021['Item Description'].value_counts().nlargest(10)\n",
    "\n",
    "plot_top10items_bestinv_graph(item_inv_byCity_2021)"
   ]
  },
  {
   "cell_type": "markdown",
   "id": "b5becb10",
   "metadata": {},
   "source": [
    "### By County"
   ]
  },
  {
   "cell_type": "code",
   "execution_count": null,
   "id": "ce001723",
   "metadata": {
    "scrolled": true
   },
   "outputs": [],
   "source": [
    "# By County\n",
    "# INDIANOLA\n",
    "\n",
    "df_byCounty_2021 = df_2021[df_2021['County'] == 'POLK']\n",
    "\n",
    "sale_byCounty_2021 = '${:,.0f}'.format(df_byCounty_2021['Sale (Dollars)'].sum())\n",
    "inv_byCounty_2021 = '{:,.0f}'.format(len(df_byCounty_2021['Invoice/Item Number']))\n",
    "\n",
    "#-----------------------------------#\n",
    "dow_sale_byCounty_2021 = df_byCounty_2021['Sale (Dollars)'].groupby(df_byCounty_2021['Day Of Week'].astype(dayOfWeek_category)).sum()                         \n",
    "dow_sale_byCounty_2021 = dow_sale_byCounty_2021.apply(lambda x: f'${x:,.0f}').to_frame()\n",
    "\n",
    "dow_inv_byCounty_2021 = df_byCounty_2021['Day Of Week'].astype(dayOfWeek_category).value_counts(sort=False)\n",
    "dow_inv_byCounty_2021 = dow_inv_byCounty_2021.apply(lambda x: f'{x:,.0f}').to_frame(name='Num of invoice')\n",
    "\n",
    "dow_bottle_byCounty_2021 = df_byCounty_2021['Bottles Sold'].groupby(df_byCounty_2021['Month'].astype(month_category)).sum()\n",
    "dow_bottle_byCounty_2021 = dow_bottle_byCounty_2021.apply(lambda x: f'{x:,.0f}').to_frame(name='Num of bottle sold')\n",
    "\n",
    "dow_byCounty_2021 = pd.concat([dow_sale_byCounty_2021, dow_inv_byCounty_2021], axis=1, join=\"inner\")\n",
    "\n",
    "#-----------------------------------#\n",
    "month_sale_byCounty_2021 = df_byCounty_2021['Sale (Dollars)'].groupby(df_byCounty_2021['Month'].astype(month_category)).sum()\n",
    "month_sale_byCounty_2021 = month_sale_byCounty_2021.apply(lambda x: f'${x:,.0f}').to_frame()\n",
    "\n",
    "month_inv_byCounty_2021 = df_byCounty_2021['Month'].value_counts(sort=False)\n",
    "month_inv_byCounty_2021 = month_inv_byCounty_2021.apply(lambda x: f'{x:,.0f}').to_frame(name='Num of invoice')\n",
    "\n",
    "month_bottle_byCounty_2021 = df_byCounty_2021['Bottles Sold'].groupby(df_byCounty_2021['Month'].astype(month_category)).sum()\n",
    "month_bottle_byCounty_2021 = month_bottle_byCounty_2021.apply(lambda x: f'{x:,.0f}').to_frame(name='Num of bottle sold')\n",
    "\n",
    "month_byCounty_2021 = pd.concat([month_sale_byCounty_2021, month_inv_byCounty_2021, month_bottle_byCounty_2021], axis=1, join=\"inner\")\n",
    "\n",
    "#-----------------------------------#\n",
    "#store_sale_2021 = df_2021.groupby(['Store Number','Store Name','Address','City','Zip Code', \n",
    "#                                   'Store Location','County'])['Sale (Dollars)'].sum().nlargest(10)\n",
    "store_sale_byCounty_2021 = df_byCounty_2021.groupby(['Store Name'])['Sale (Dollars)'].sum().nlargest(10)                                   \n",
    "store_sale_byCounty_2021 = store_sale_byCounty_2021.apply(lambda x: f'${x:,.0f}').to_frame()\n",
    "\n",
    "store_inv_byCounty_2021 = df_byCounty_2021['Store Name'].value_counts().nlargest(10)\n",
    "store_inv_byCounty_2021 = store_inv_byCounty_2021.apply(lambda x: f'{x:,.0f}').to_frame(name='Num of invoice')\n",
    "\n",
    "#-----------------------------------#\n",
    "city_sale_byCounty_2021 = df_byCounty_2021.groupby(['City'])['Sale (Dollars)'].sum().nlargest(10)                                   \n",
    "city_sale_byCounty_2021 = city_sale_byCounty_2021.apply(lambda x: f'${x:,.0f}').to_frame()\n",
    "\n",
    "city_inv_byCounty_2021 = df_byCounty_2021['City'].value_counts().nlargest(10)\n",
    "city_inv_byCounty_2021 = city_inv_byCounty_2021.apply(lambda x: f'{x:,.0f}').to_frame(name='Num of invoice')\n",
    "\n",
    "#-----------------------------------#\n",
    "catname_sale_byCounty_2021 = df_byCounty_2021.groupby(['Category Name'])['Sale (Dollars)'].sum().nlargest(10)                                   \n",
    "catname_sale_byCounty_2021 = catname_sale_byCounty_2021.apply(lambda x: f'${x:,.0f}').to_frame()\n",
    "\n",
    "catname_inv_byCounty_2021 = df_byCounty_2021['Category Name'].value_counts().nlargest(10)\n",
    "catname_inv_byCounty_2021 = catname_inv_byCounty_2021.apply(lambda x: f'{x:,.0f}').to_frame(name='Num of invoice')\n",
    "\n",
    "#-----------------------------------#\n",
    "vendor_sale_byCounty_2021 = df_byCounty_2021.groupby(['Vendor Name'])['Sale (Dollars)'].sum().nlargest(10)                                   \n",
    "vendor_sale_byCounty_2021 = vendor_sale_byCounty_2021.apply(lambda x: f'${x:,.0f}').to_frame()\n",
    "\n",
    "vendor_inv_byCounty_2021 = df_byCounty_2021['Vendor Name'].value_counts().nlargest(10)\n",
    "vendor_inv_byCounty_2021 = vendor_inv_byCounty_2021.apply(lambda x: f'{x:,.0f}').to_frame(name='Num of invoice')\n",
    "\n",
    "#-----------------------------------#\n",
    "item_sale_byCounty_2021 = df_byCounty_2021.groupby(['Item Description'])['Sale (Dollars)'].sum().nlargest(10)                                   \n",
    "item_sale_byCounty_2021 = item_sale_byCounty_2021.apply(lambda x: f'${x:,.0f}').to_frame()\n",
    "\n",
    "item_inv_byCounty_2021 = df_byCounty_2021['Item Description'].value_counts().nlargest(10)\n",
    "item_inv_byCounty_2021 = item_inv_byCounty_2021.apply(lambda x: f'{x:,.0f}').to_frame(name='Num of invoice')\n",
    "\n",
    "#-----------------------------------#\n",
    "print(f\"_____County Sale_____\\n\")\n",
    "print(f\"Total sale: {sale_byCounty_2021}\")\n",
    "print(f\"Total invoice: {inv_byCounty_2021}\")\n",
    "print(\"#-----------------------------------#\")\n",
    "print(f\"Day of Week with Best Sales:\\n {dow_byCounty_2021}\")\n",
    "print(\"#-----------------------------------#\")\n",
    "print(f\"Month with Best Sales:\\n {month_byCounty_2021}\")\n",
    "print(\"#-----------------------------------#\")\n",
    "print(f\"Store (sales) with Best Sales:\\n {store_sale_byCounty_2021}\")\n",
    "print(\"#-----------------------------------#\")\n",
    "print(f\"Store (invoices) with Best Sales:\\n {store_inv_byCounty_2021}\")\n",
    "print(\"#-----------------------------------#\")\n",
    "print(f\"City (sales) with Best Sales:\\n {city_sale_byCounty_2021}\")\n",
    "print(\"#-----------------------------------#\")\n",
    "print(f\"City (invoices) with Best Sales:\\n {city_inv_byCounty_2021}\")\n",
    "print(\"#-----------------------------------#\")\n",
    "print(f\"Category (sales) with Best Sales:\\n {catname_sale_byCounty_2021}\")\n",
    "print(\"#-----------------------------------#\")\n",
    "print(f\"Category (invoices) with Best Sales:\\n {catname_inv_byCounty_2021}\")\n",
    "print(\"#-----------------------------------#\")\n",
    "print(f\"Vendor (sales) with Best Sales:\\n {vendor_sale_byCounty_2021}\")\n",
    "print(\"#-----------------------------------#\")\n",
    "print(f\"Vendor (invoices) with Best Sales:\\n {vendor_inv_byCounty_2021}\")\n",
    "print(\"#-----------------------------------#\")\n",
    "print(f\"Item (sales) with Best Sales:\\n {item_sale_byCounty_2021}\")\n",
    "print(\"#-----------------------------------#\")\n",
    "print(f\"Item (invoices) with Best Sales:\\n {item_inv_byCounty_2021}\")"
   ]
  },
  {
   "cell_type": "code",
   "execution_count": null,
   "id": "52be4596",
   "metadata": {},
   "outputs": [],
   "source": [
    "# filter df with from county\n",
    "def df_byCounty(df, countyName):\n",
    "    return df[df['County'] == countyName]"
   ]
  },
  {
   "cell_type": "code",
   "execution_count": null,
   "id": "d1efa4ad",
   "metadata": {},
   "outputs": [],
   "source": [
    "df_byCounty_2021 = df_byCounty(df_2021, 'POLK')"
   ]
  },
  {
   "cell_type": "code",
   "execution_count": null,
   "id": "dc6d162f",
   "metadata": {},
   "outputs": [],
   "source": [
    "dow_sale_byCounty_2021 = df_byCounty_2021['Sale (Dollars)'].groupby(df_byCounty_2021['Day Of Week'].astype(dayOfWeek_category)).sum()                         \n",
    "dow_inv_byCounty_2021 = df_byCounty_2021['Day Of Week'].astype(dayOfWeek_category).value_counts(sort=False)\n",
    "\n",
    "plot_dow_bestsale_graph(dow_sale_byCounty_2021, dow_inv_byCounty_2021)"
   ]
  },
  {
   "cell_type": "code",
   "execution_count": null,
   "id": "5679d5a8",
   "metadata": {},
   "outputs": [],
   "source": [
    "month_sale_byCounty_2021 = df_byCounty_2021['Sale (Dollars)'].groupby(df_byCounty_2021['Month'].astype(month_category)).sum()\n",
    "month_inv_byCounty_2021 = df_byCounty_2021['Month'].value_counts(sort=False)\n",
    "\n",
    "plot_month_bestsale_graph(month_sale_byCounty_2021, month_inv_byCounty_2021)"
   ]
  },
  {
   "cell_type": "code",
   "execution_count": null,
   "id": "f3007af7",
   "metadata": {},
   "outputs": [],
   "source": [
    "store_sale_byCounty_2021 = df_byCounty_2021.groupby(['Store Name'])['Sale (Dollars)'].sum().nlargest(10)                                   \n",
    "\n",
    "plot_top10store_bestsale_graph(store_sale_byCounty_2021)"
   ]
  },
  {
   "cell_type": "code",
   "execution_count": null,
   "id": "af59d02d",
   "metadata": {},
   "outputs": [],
   "source": [
    "store_inv_byCounty_2021 = df_byCounty_2021['Store Name'].value_counts().nlargest(10)\n",
    "\n",
    "plot_top10store_bestinv_graph(store_inv_byCounty_2021)"
   ]
  },
  {
   "cell_type": "code",
   "execution_count": null,
   "id": "1e886242",
   "metadata": {},
   "outputs": [],
   "source": [
    "city_sale_byCounty_2021 = df_byCounty_2021.groupby(['City'])['Sale (Dollars)'].sum().nlargest(10)                                   \n",
    "\n",
    "plot_top10city_bestsale_graph(city_sale_byCounty_2021)"
   ]
  },
  {
   "cell_type": "code",
   "execution_count": null,
   "id": "d0dafbf2",
   "metadata": {},
   "outputs": [],
   "source": [
    "city_inv_byCounty_2021 = df_byCounty_2021['City'].value_counts().nlargest(10)\n",
    "\n",
    "plot_top10city_bestinv_graph(city_inv_byCounty_2021)"
   ]
  },
  {
   "cell_type": "code",
   "execution_count": null,
   "id": "c6843a77",
   "metadata": {},
   "outputs": [],
   "source": [
    "catname_sale_byCounty_2021 = df_byCounty_2021.groupby(['Category Name'])['Sale (Dollars)'].sum().nlargest(10)                                   \n",
    "\n",
    "plot_top10cat_bestsale_graph(catname_sale_byCounty_2021)"
   ]
  },
  {
   "cell_type": "code",
   "execution_count": null,
   "id": "b145bdfe",
   "metadata": {},
   "outputs": [],
   "source": [
    "catname_inv_byCounty_2021 = df_byCounty_2021['Category Name'].value_counts().nlargest(10)\n",
    "\n",
    "plot_top10cat_bestinv_graph(catname_inv_byCounty_2021)"
   ]
  },
  {
   "cell_type": "code",
   "execution_count": null,
   "id": "f045074b",
   "metadata": {},
   "outputs": [],
   "source": [
    "vendor_sale_byCounty_2021 = df_byCounty_2021.groupby(['Vendor Name'])['Sale (Dollars)'].sum().nlargest(10)                                   \n",
    "\n",
    "plot_top10vendors_bestsale_graph(vendor_sale_byCounty_2021)"
   ]
  },
  {
   "cell_type": "code",
   "execution_count": null,
   "id": "9492cebf",
   "metadata": {},
   "outputs": [],
   "source": [
    "vendor_inv_byCounty_2021 = df_byCounty_2021['Vendor Name'].value_counts().nlargest(10)\n",
    "\n",
    "plot_top10vendors_bestinv_graph(vendor_inv_byCounty_2021)"
   ]
  },
  {
   "cell_type": "code",
   "execution_count": null,
   "id": "514f21b2",
   "metadata": {},
   "outputs": [],
   "source": [
    "item_sale_byCounty_2021 = df_byCounty_2021.groupby(['Item Description'])['Sale (Dollars)'].sum().nlargest(10)                                   \n",
    "\n",
    "plot_top10items_bestsale_graph(item_sale_byCounty_2021)"
   ]
  },
  {
   "cell_type": "code",
   "execution_count": null,
   "id": "fbb3c143",
   "metadata": {},
   "outputs": [],
   "source": [
    "item_inv_byCounty_2021 = df_byCounty_2021['Item Description'].value_counts().nlargest(10)\n",
    "\n",
    "plot_top10items_bestinv_graph(item_inv_byCounty_2021)"
   ]
  },
  {
   "cell_type": "markdown",
   "id": "2e3e35a8",
   "metadata": {},
   "source": [
    "### Query by Category"
   ]
  },
  {
   "cell_type": "code",
   "execution_count": null,
   "id": "203e8190",
   "metadata": {},
   "outputs": [],
   "source": [
    "# By Category\n",
    "# 1062300.0\n",
    "\n",
    "df_byCat_2021 = df_2021[df_2021['Category'] == '1062300.0']\n",
    "\n",
    "sale_byCat_2021 = '${:,.0f}'.format(df_byCat_2021['Sale (Dollars)'].sum())\n",
    "inv_byCat_2021 = '{:,.0f}'.format(len(df_byCat_2021['Invoice/Item Number']))\n",
    "\n",
    "#-----------------------------------#\n",
    "dow_sale_byCat_2021 = df_byCat_2021['Sale (Dollars)'].groupby(df_byCat_2021['Day Of Week'].astype(dayOfWeek_category)).sum()                         \n",
    "dow_sale_byCat_2021 = dow_sale_byCat_2021.apply(lambda x: f'${x:,.0f}').to_frame()\n",
    "\n",
    "dow_inv_byCat_2021 = df_byCat_2021['Day Of Week'].astype(dayOfWeek_category).value_counts(sort=False)\n",
    "dow_inv_byCat_2021 = dow_inv_byCat_2021.apply(lambda x: f'{x:,.0f}').to_frame(name='Num of invoice')\n",
    "\n",
    "dow_bottle_byCat_2021 = df_byCat_2021['Bottles Sold'].groupby(df_byCat_2021['Month'].astype(month_category)).sum()\n",
    "dow_bottle_byCat_2021 = dow_bottle_byCat_2021.apply(lambda x: f'{x:,.0f}').to_frame(name='Num of bottle sold')\n",
    "\n",
    "dow_byCat_2021 = pd.concat([dow_sale_byCat_2021, dow_inv_byCat_2021], axis=1, join=\"inner\")\n",
    "\n",
    "#-----------------------------------#\n",
    "month_sale_byCat_2021 = df_byCat_2021['Sale (Dollars)'].groupby(df_byCat_2021['Month'].astype(month_category)).sum()\n",
    "month_sale_byCat_2021 = month_sale_byCat_2021.apply(lambda x: f'${x:,.0f}').to_frame()\n",
    "\n",
    "month_inv_byCat_2021 = df_byCat_2021['Month'].value_counts(sort=False)\n",
    "month_inv_byCat_2021 = month_inv_byCat_2021.apply(lambda x: f'{x:,.0f}').to_frame(name='Num of invoice')\n",
    "\n",
    "month_bottle_byCat_2021 = df_byCat_2021['Bottles Sold'].groupby(df_byCat_2021['Month'].astype(month_category)).sum()\n",
    "month_bottle_byCat_2021 = month_bottle_byCat_2021.apply(lambda x: f'{x:,.0f}').to_frame(name='Num of bottle sold')\n",
    "\n",
    "month_byCat_2021 = pd.concat([month_sale_byCat_2021, month_inv_byCat_2021, month_bottle_byCat_2021], axis=1, join=\"inner\")\n",
    "\n",
    "#-----------------------------------#\n",
    "#store_sale_2021 = df_2021.groupby(['Store Number','Store Name','Address','City','Zip Code', \n",
    "#                                   'Store Location','County'])['Sale (Dollars)'].sum().nlargest(10)\n",
    "store_sale_byCat_2021 = df_byCat_2021.groupby(['Store Name'])['Sale (Dollars)'].sum().nlargest(10)                                   \n",
    "store_sale_byCat_2021 = store_sale_byCat_2021.apply(lambda x: f'${x:,.0f}').to_frame()\n",
    "\n",
    "store_inv_byCat_2021 = df_byCat_2021['Store Name'].value_counts().nlargest(10)\n",
    "store_inv_byCat_2021 = store_inv_byCat_2021.apply(lambda x: f'{x:,.0f}').to_frame(name='Num of invoice')\n",
    "\n",
    "#-----------------------------------#\n",
    "city_sale_byCat_2021 = df_byCat_2021.groupby(['City'])['Sale (Dollars)'].sum().nlargest(10)                                   \n",
    "city_sale_byCat_2021 = city_sale_byCat_2021.apply(lambda x: f'${x:,.0f}').to_frame()\n",
    "\n",
    "city_inv_byCat_2021 = df_byCat_2021['City'].value_counts().nlargest(10)\n",
    "city_inv_byCat_2021 = city_inv_byCat_2021.apply(lambda x: f'{x:,.0f}').to_frame(name='Num of invoice')\n",
    "\n",
    "#-----------------------------------#\n",
    "county_sale_byCat_2021 = df_byCat_2021.groupby(['County'])['Sale (Dollars)'].sum().nlargest(10)                                   \n",
    "county_sale_byCat_2021 = county_sale_byCat_2021.apply(lambda x: f'${x:,.0f}').to_frame()\n",
    "\n",
    "county_inv_byCat_2021 = df_byCat_2021['County'].value_counts().nlargest(10)\n",
    "county_inv_byCat_2021 = county_inv_byCat_2021.apply(lambda x: f'{x:,.0f}').to_frame(name='Num of invoice')\n",
    "\n",
    "#-----------------------------------#\n",
    "vendor_sale_byCat_2021 = df_byCat_2021.groupby(['Vendor Name'])['Sale (Dollars)'].sum().nlargest(10)                                   \n",
    "vendor_sale_byCat_2021 = vendor_sale_byCat_2021.apply(lambda x: f'${x:,.0f}').to_frame()\n",
    "\n",
    "vendor_inv_byCat_2021 = df_byCat_2021['Vendor Name'].value_counts().nlargest(10)\n",
    "vendor_inv_byCat_2021 = vendor_inv_byCat_2021.apply(lambda x: f'{x:,.0f}').to_frame(name='Num of invoice')\n",
    "\n",
    "#-----------------------------------#\n",
    "item_sale_byCat_2021 = df_byCat_2021.groupby(['Item Description'])['Sale (Dollars)'].sum().nlargest(10)                                   \n",
    "item_sale_byCat_2021 = item_sale_byCat_2021.apply(lambda x: f'${x:,.0f}').to_frame()\n",
    "\n",
    "item_inv_byCat_2021 = df_byCat_2021['Item Description'].value_counts().nlargest(10)\n",
    "item_inv_byCat_2021 = item_inv_byCat_2021.apply(lambda x: f'{x:,.0f}').to_frame(name='Num of invoice')\n",
    "\n",
    "#-----------------------------------#\n",
    "print(f\"_____Category Sale_____\\n\")\n",
    "print(f\"Total sale: {sale_byCat_2021}\")\n",
    "print(f\"Total invoice: {inv_byCat_2021}\")\n",
    "print(\"#-----------------------------------#\")\n",
    "print(f\"Day of Week with Best Sales:\\n {dow_byCat_2021}\")\n",
    "print(\"#-----------------------------------#\")\n",
    "print(f\"Month with Best Sales:\\n {month_byCat_2021}\")\n",
    "print(\"#-----------------------------------#\")\n",
    "print(f\"City (sales) with Best Sales:\\n {city_sale_byCat_2021}\")\n",
    "print(\"#-----------------------------------#\")\n",
    "print(f\"City (invoices) with Best Sales:\\n {city_inv_byCat_2021}\")\n",
    "print(\"#-----------------------------------#\")\n",
    "print(f\"County (sales) with Best Sales:\\n {county_sale_byCat_2021}\")\n",
    "print(\"#-----------------------------------#\")\n",
    "print(f\"County (invoices) with Best Sales:\\n {county_inv_byCat_2021}\")\n",
    "print(\"#-----------------------------------#\")\n",
    "print(f\"Vendor (sales) with Best Sales:\\n {vendor_sale_byCat_2021}\")\n",
    "print(\"#-----------------------------------#\")\n",
    "print(f\"Vendor (invoices) with Best Sales:\\n {vendor_inv_byCat_2021}\")\n",
    "print(\"#-----------------------------------#\")\n",
    "print(f\"Item (sales) with Best Sales:\\n {item_sale_byCat_2021}\")\n",
    "print(\"#-----------------------------------#\")\n",
    "print(f\"Item (invoices) with Best Sales:\\n {item_inv_byCat_2021}\")"
   ]
  },
  {
   "cell_type": "code",
   "execution_count": null,
   "id": "bd24516d",
   "metadata": {},
   "outputs": [],
   "source": [
    "# filter df with from category\n",
    "def df_byCat(df, catName):\n",
    "    return df[df['Category'] == catName]"
   ]
  },
  {
   "cell_type": "code",
   "execution_count": null,
   "id": "41bff968",
   "metadata": {},
   "outputs": [],
   "source": [
    "df_byCat_2021 = df_byCat(df_2021, '1062300.0')"
   ]
  },
  {
   "cell_type": "code",
   "execution_count": null,
   "id": "0c5f879d",
   "metadata": {},
   "outputs": [],
   "source": [
    "dow_sale_byCat_2021 = df_byCat_2021['Sale (Dollars)'].groupby(df_byCat_2021['Day Of Week'].astype(dayOfWeek_category)).sum()                         \n",
    "dow_inv_byCat_2021 = df_byCat_2021['Day Of Week'].astype(dayOfWeek_category).value_counts(sort=False)\n",
    "\n",
    "plot_dow_bestsale_graph(dow_sale_byCat_2021, dow_inv_byCat_2021)"
   ]
  },
  {
   "cell_type": "code",
   "execution_count": null,
   "id": "e7433d5a",
   "metadata": {},
   "outputs": [],
   "source": [
    "month_sale_byCat_2021 = df_byCat_2021['Sale (Dollars)'].groupby(df_byCat_2021['Month'].astype(month_category)).sum()\n",
    "month_inv_byCat_2021 = df_byCat_2021['Month'].value_counts(sort=False)\n",
    "\n",
    "plot_month_bestsale_graph(month_sale_byCat_2021, month_inv_byCat_2021)"
   ]
  },
  {
   "cell_type": "code",
   "execution_count": null,
   "id": "19890c9c",
   "metadata": {},
   "outputs": [],
   "source": [
    "store_sale_byCat_2021 = df_byCat_2021.groupby(['Store Name'])['Sale (Dollars)'].sum().nlargest(10)                                   \n",
    "\n",
    "plot_top10store_bestsale_graph(store_sale_byCat_2021)"
   ]
  },
  {
   "cell_type": "code",
   "execution_count": null,
   "id": "d27bfb94",
   "metadata": {},
   "outputs": [],
   "source": [
    "store_inv_byCat_2021 = df_byCat_2021['Store Name'].value_counts().nlargest(10)\n",
    "\n",
    "plot_top10store_bestinv_graph(store_inv_byCat_2021)"
   ]
  },
  {
   "cell_type": "code",
   "execution_count": null,
   "id": "ffe390cb",
   "metadata": {},
   "outputs": [],
   "source": [
    "city_sale_byCat_2021 = df_byCat_2021.groupby(['City'])['Sale (Dollars)'].sum().nlargest(10)                                   \n",
    "\n",
    "plot_top10city_bestsale_graph(city_sale_byCat_2021)"
   ]
  },
  {
   "cell_type": "code",
   "execution_count": null,
   "id": "f0f8f996",
   "metadata": {},
   "outputs": [],
   "source": [
    "city_inv_byCat_2021 = df_byCat_2021['City'].value_counts().nlargest(10)\n",
    "\n",
    "plot_top10city_bestinv_graph(city_inv_byCat_2021)"
   ]
  },
  {
   "cell_type": "code",
   "execution_count": null,
   "id": "307648e9",
   "metadata": {},
   "outputs": [],
   "source": [
    "county_sale_byCat_2021 = df_byCat_2021.groupby(['County'])['Sale (Dollars)'].sum().nlargest(10)                                   \n",
    "\n",
    "plot_top10county_bestsale_graph(county_sale_byCat_2021)"
   ]
  },
  {
   "cell_type": "code",
   "execution_count": null,
   "id": "c9ea8c38",
   "metadata": {},
   "outputs": [],
   "source": [
    "county_inv_byCat_2021 = df_byCat_2021['County'].value_counts().nlargest(10)\n",
    "\n",
    "plot_top10county_bestinv_graph(county_inv_byCat_2021)"
   ]
  },
  {
   "cell_type": "code",
   "execution_count": null,
   "id": "37e46ba0",
   "metadata": {},
   "outputs": [],
   "source": [
    "vendor_sale_byCat_2021 = df_byCat_2021.groupby(['Vendor Name'])['Sale (Dollars)'].sum().nlargest(10)                                   \n",
    "\n",
    "plot_top10vendors_bestsale_graph(vendor_sale_byCat_2021)"
   ]
  },
  {
   "cell_type": "code",
   "execution_count": null,
   "id": "43898545",
   "metadata": {},
   "outputs": [],
   "source": [
    "vendor_inv_byCat_2021 = df_byCat_2021['Vendor Name'].value_counts().nlargest(10)\n",
    "\n",
    "plot_top10vendors_bestinv_graph(vendor_inv_byCat_2021)"
   ]
  },
  {
   "cell_type": "code",
   "execution_count": null,
   "id": "4272bb1f",
   "metadata": {},
   "outputs": [],
   "source": [
    "item_sale_byCat_2021 = df_byCat_2021.groupby(['Item Description'])['Sale (Dollars)'].sum().nlargest(10)                                   \n",
    "\n",
    "plot_top10items_bestsale_graph(item_sale_byCat_2021)"
   ]
  },
  {
   "cell_type": "code",
   "execution_count": null,
   "id": "3dd16282",
   "metadata": {},
   "outputs": [],
   "source": [
    "item_inv_byCat_2021 = df_byCat_2021['Item Description'].value_counts().nlargest(10)\n",
    "\n",
    "plot_top10items_bestinv_graph(item_inv_byCat_2021)"
   ]
  },
  {
   "cell_type": "markdown",
   "id": "8617a20c",
   "metadata": {},
   "source": [
    "### Query by Vendor"
   ]
  },
  {
   "cell_type": "code",
   "execution_count": null,
   "id": "1185f6fa",
   "metadata": {},
   "outputs": [],
   "source": [
    "# By Vendor\n",
    "# 370\n",
    "\n",
    "df_byVendor_2021 = df_2021[df_2021['Vendor Number'] == '370']\n",
    "\n",
    "sale_byVendor_2021 = '${:,.0f}'.format(df_byVendor_2021['Sale (Dollars)'].sum())\n",
    "inv_byVendor_2021 = '{:,.0f}'.format(len(df_byVendor_2021['Invoice/Item Number']))\n",
    "\n",
    "#-----------------------------------#\n",
    "dow_sale_byVendor_2021 = df_byVendor_2021['Sale (Dollars)'].groupby(df_byVendor_2021['Day Of Week'].astype(dayOfWeek_category)).sum()                         \n",
    "dow_sale_byVendor_2021 = dow_sale_byVendor_2021.apply(lambda x: f'${x:,.0f}').to_frame()\n",
    "\n",
    "dow_inv_byVendor_2021 = df_byVendor_2021['Day Of Week'].astype(dayOfWeek_category).value_counts(sort=False)\n",
    "dow_inv_byVendor_2021 = dow_inv_byVendor_2021.apply(lambda x: f'{x:,.0f}').to_frame(name='Num of invoice')\n",
    "\n",
    "dow_bottle_byVendor_2021 = df_byVendor_2021['Bottles Sold'].groupby(df_byVendor_2021['Month'].astype(month_category)).sum()\n",
    "dow_bottle_byVendor_2021 = dow_bottle_byVendor_2021.apply(lambda x: f'{x:,.0f}').to_frame(name='Num of bottle sold')\n",
    "\n",
    "dow_byVendor_2021 = pd.concat([dow_sale_byVendor_2021, dow_inv_byVendor_2021], axis=1, join=\"inner\")\n",
    "\n",
    "#-----------------------------------#\n",
    "month_sale_byVendor_2021 = df_byVendor_2021['Sale (Dollars)'].groupby(df_byVendor_2021['Month'].astype(month_category)).sum()\n",
    "month_sale_byVendor_2021 = month_sale_byVendor_2021.apply(lambda x: f'${x:,.0f}').to_frame()\n",
    "\n",
    "month_inv_byVendor_2021 = df_byVendor_2021['Month'].value_counts(sort=False)\n",
    "month_inv_byVendor_2021 = month_inv_byVendor_2021.apply(lambda x: f'{x:,.0f}').to_frame(name='Num of invoice')\n",
    "\n",
    "month_bottle_byVendor_2021 = df_byVendor_2021['Bottles Sold'].groupby(df_byVendor_2021['Month'].astype(month_category)).sum()\n",
    "month_bottle_byVendor_2021 = month_bottle_byVendor_2021.apply(lambda x: f'{x:,.0f}').to_frame(name='Num of bottle sold')\n",
    "\n",
    "month_byVendor_2021 = pd.concat([month_sale_byVendor_2021, month_inv_byVendor_2021, month_bottle_byVendor_2021], axis=1, join=\"inner\")\n",
    "\n",
    "#-----------------------------------#\n",
    "#store_sale_2021 = df_2021.groupby(['Store Number','Store Name','Address','City','Zip Code', \n",
    "#                                   'Store Location','County'])['Sale (Dollars)'].sum().nlargest(10)\n",
    "store_sale_byVendor_2021 = df_byVendor_2021.groupby(['Store Name'])['Sale (Dollars)'].sum().nlargest(10)                                   \n",
    "store_sale_byVendor_2021 = store_sale_byVendor_2021.apply(lambda x: f'${x:,.0f}').to_frame()\n",
    "\n",
    "store_inv_byVendor_2021 = df_byVendor_2021['Store Name'].value_counts().nlargest(10)\n",
    "store_inv_byVendor_2021 = store_inv_byVendor_2021.apply(lambda x: f'{x:,.0f}').to_frame(name='Num of invoice')\n",
    "\n",
    "#-----------------------------------#\n",
    "city_sale_byVendor_2021 = df_byVendor_2021.groupby(['City'])['Sale (Dollars)'].sum().nlargest(10)                                   \n",
    "city_sale_byVendor_2021 = city_sale_byVendor_2021.apply(lambda x: f'${x:,.0f}').to_frame()\n",
    "\n",
    "city_inv_byVendor_2021 = df_byVendor_2021['City'].value_counts().nlargest(10)\n",
    "city_inv_byVendor_2021 = city_inv_byVendor_2021.apply(lambda x: f'{x:,.0f}').to_frame(name='Num of invoice')\n",
    "\n",
    "#-----------------------------------#\n",
    "county_sale_byVendor_2021 = df_byVendor_2021.groupby(['County'])['Sale (Dollars)'].sum().nlargest(10)                                   \n",
    "county_sale_byVendor_2021 = county_sale_byVendor_2021.apply(lambda x: f'${x:,.0f}').to_frame()\n",
    "\n",
    "county_inv_byVendor_2021 = df_byVendor_2021['County'].value_counts().nlargest(10)\n",
    "county_inv_byVendor_2021 = county_inv_byVendor_2021.apply(lambda x: f'{x:,.0f}').to_frame(name='Num of invoice')\n",
    "\n",
    "#-----------------------------------#\n",
    "catname_sale_byVendor_2021 = df_byVendor_2021.groupby(['Category Name'])['Sale (Dollars)'].sum().nlargest(10)                                   \n",
    "catname_sale_byVendor_2021 = catname_sale_byVendor_2021.apply(lambda x: f'${x:,.0f}').to_frame()\n",
    "\n",
    "catname_inv_byVendor_2021 = df_byVendor_2021['Category Name'].value_counts().nlargest(10)\n",
    "catname_inv_byVendor_2021 = catname_inv_byVendor_2021.apply(lambda x: f'{x:,.0f}').to_frame(name='Num of invoice')\n",
    "\n",
    "#-----------------------------------#\n",
    "item_sale_byVendor_2021 = df_byVendor_2021.groupby(['Item Description'])['Sale (Dollars)'].sum().nlargest(10)                                   \n",
    "item_sale_byVendor_2021 = item_sale_byVendor_2021.apply(lambda x: f'${x:,.0f}').to_frame()\n",
    "\n",
    "item_inv_byVendor_2021 = df_byVendor_2021['Item Description'].value_counts().nlargest(10)\n",
    "item_inv_byVendor_2021 = item_inv_byVendor_2021.apply(lambda x: f'{x:,.0f}').to_frame(name='Num of invoice')\n",
    "\n",
    "#-----------------------------------#\n",
    "print(f\"_____Vendor Sale_____\\n\")\n",
    "print(f\"Total sale: {sale_byVendor_2021}\")\n",
    "print(f\"Total invoice: {inv_byVendor_2021}\")\n",
    "print(\"#-----------------------------------#\")\n",
    "print(f\"Day of Week with Best Sales:\\n {dow_byVendor_2021}\")\n",
    "print(\"#-----------------------------------#\")\n",
    "print(f\"Month with Best Sales:\\n {month_byVendor_2021}\")\n",
    "print(\"#-----------------------------------#\")\n",
    "print(f\"Store (sales) with Best Sales:\\n {store_sale_byVendor_2021}\")\n",
    "print(\"#-----------------------------------#\")\n",
    "print(f\"Store (invoices) with Best Sales:\\n {store_inv_byVendor_2021}\")\n",
    "print(\"#-----------------------------------#\")\n",
    "print(f\"County (sales) with Best Sales:\\n {city_sale_byVendor_2021}\")\n",
    "print(\"#-----------------------------------#\")\n",
    "print(f\"County (invoices) with Best Sales:\\n {city_inv_byVendor_2021}\")\n",
    "print(\"#-----------------------------------#\")\n",
    "print(f\"City (sales) with Best Sales:\\n {county_sale_byVendor_2021}\")\n",
    "print(\"#-----------------------------------#\")\n",
    "print(f\"City (invoices) with Best Sales:\\n {county_inv_byVendor_2021}\")\n",
    "print(\"#-----------------------------------#\")\n",
    "print(f\"Category (sales) with Best Sales:\\n {catname_sale_byVendor_2021}\")\n",
    "print(\"#-----------------------------------#\")\n",
    "print(f\"Category (invoices) with Best Sales:\\n {catname_inv_byVendor_2021}\")\n",
    "print(\"#-----------------------------------#\")\n",
    "print(f\"Item (sales) with Best Sales:\\n {item_sale_byVendor_2021}\")\n",
    "print(\"#-----------------------------------#\")\n",
    "print(f\"Item (invoices) with Best Sales:\\n {item_inv_byVendor_2021}\")"
   ]
  },
  {
   "cell_type": "code",
   "execution_count": null,
   "id": "7a2eb88b",
   "metadata": {},
   "outputs": [],
   "source": [
    "# filter df with from Vendor name\n",
    "def df_byVendor(df, vendorName):\n",
    "    return df[df['Vendor Name'] == vendorName]"
   ]
  },
  {
   "cell_type": "code",
   "execution_count": null,
   "id": "7856b678",
   "metadata": {},
   "outputs": [],
   "source": [
    "df_byVendor_2021 = df_byVendor(df_2021, 'JIM BEAM BRANDS')"
   ]
  },
  {
   "cell_type": "code",
   "execution_count": null,
   "id": "93608c15",
   "metadata": {},
   "outputs": [],
   "source": [
    "dow_sale_byVendor_2021 = df_byVendor_2021['Sale (Dollars)'].groupby(df_byVendor_2021['Day Of Week'].astype(dayOfWeek_category)).sum()                         \n",
    "dow_inv_byVendor_2021 = df_byVendor_2021['Day Of Week'].astype(dayOfWeek_category).value_counts(sort=False)\n",
    "\n",
    "plot_dow_bestsale_graph(dow_sale_byVendor_2021, dow_inv_byVendor_2021)"
   ]
  },
  {
   "cell_type": "code",
   "execution_count": null,
   "id": "c578d171",
   "metadata": {},
   "outputs": [],
   "source": [
    "month_sale_byVendor_2021 = df_byVendor_2021['Sale (Dollars)'].groupby(df_byVendor_2021['Month'].astype(month_category)).sum()\n",
    "month_inv_byVendor_2021 = df_byVendor_2021['Month'].value_counts(sort=False)\n",
    "\n",
    "plot_month_bestsale_graph(month_sale_byVendor_2021, month_inv_byVendor_2021)"
   ]
  },
  {
   "cell_type": "code",
   "execution_count": null,
   "id": "7710f0c3",
   "metadata": {},
   "outputs": [],
   "source": [
    "store_sale_byVendor_2021 = df_byVendor_2021.groupby(['Store Name'])['Sale (Dollars)'].sum().nlargest(10)                                   \n",
    "\n",
    "plot_top10store_bestsale_graph(store_sale_byVendor_2021)"
   ]
  },
  {
   "cell_type": "code",
   "execution_count": null,
   "id": "771d48ea",
   "metadata": {},
   "outputs": [],
   "source": [
    "store_inv_byVendor_2021 = df_byVendor_2021['Store Name'].value_counts().nlargest(10)\n",
    "\n",
    "plot_top10store_bestinv_graph(store_inv_byVendor_2021)"
   ]
  },
  {
   "cell_type": "code",
   "execution_count": null,
   "id": "bdcef38f",
   "metadata": {},
   "outputs": [],
   "source": [
    "city_sale_byVendor_2021 = df_byVendor_2021.groupby(['City'])['Sale (Dollars)'].sum().nlargest(10)                                   \n",
    "\n",
    "plot_top10city_bestsale_graph(city_sale_byVendor_2021)"
   ]
  },
  {
   "cell_type": "code",
   "execution_count": null,
   "id": "2386f2e7",
   "metadata": {},
   "outputs": [],
   "source": [
    "city_inv_byVendor_2021 = df_byVendor_2021['City'].value_counts().nlargest(10)\n",
    "\n",
    "plot_top10city_bestinv_graph(city_inv_byVendor_2021)"
   ]
  },
  {
   "cell_type": "code",
   "execution_count": null,
   "id": "5c557954",
   "metadata": {},
   "outputs": [],
   "source": [
    "county_sale_byVendor_2021 = df_byVendor_2021.groupby(['County'])['Sale (Dollars)'].sum().nlargest(10)                                   \n",
    "\n",
    "plot_top10county_bestsale_graph(county_sale_byVendor_2021)"
   ]
  },
  {
   "cell_type": "code",
   "execution_count": null,
   "id": "f914b5a0",
   "metadata": {},
   "outputs": [],
   "source": [
    "county_inv_byVendor_2021 = df_byVendor_2021['County'].value_counts().nlargest(10)\n",
    "\n",
    "plot_top10county_bestinv_graph(county_inv_byVendor_2021)"
   ]
  },
  {
   "cell_type": "code",
   "execution_count": null,
   "id": "285a03a3",
   "metadata": {},
   "outputs": [],
   "source": [
    "catname_sale_byVendor_2021 = df_byVendor_2021.groupby(['Category Name'])['Sale (Dollars)'].sum().nlargest(10)                                   \n",
    "\n",
    "plot_top10cat_bestsale_graph(catname_sale_byVendor_2021)"
   ]
  },
  {
   "cell_type": "code",
   "execution_count": null,
   "id": "912173f3",
   "metadata": {},
   "outputs": [],
   "source": [
    "catname_inv_byVendor_2021 = df_byVendor_2021['Category Name'].value_counts().nlargest(10)\n",
    "\n",
    "plot_top10cat_bestinv_graph(catname_inv_byVendor_2021)"
   ]
  },
  {
   "cell_type": "code",
   "execution_count": null,
   "id": "bb99a223",
   "metadata": {},
   "outputs": [],
   "source": [
    "item_sale_byVendor_2021 = df_byVendor_2021.groupby(['Item Description'])['Sale (Dollars)'].sum().nlargest(10)                                   \n",
    "\n",
    "plot_top10items_bestsale_graph(item_sale_byVendor_2021)"
   ]
  },
  {
   "cell_type": "code",
   "execution_count": null,
   "id": "edc093f9",
   "metadata": {},
   "outputs": [],
   "source": [
    "item_inv_byVendor_2021 = df_byVendor_2021['Item Description'].value_counts().nlargest(10)\n",
    "\n",
    "plot_top10items_bestinv_graph(item_inv_byVendor_2021)"
   ]
  },
  {
   "cell_type": "markdown",
   "id": "55be0816",
   "metadata": {},
   "source": [
    "### Query by Item"
   ]
  },
  {
   "cell_type": "code",
   "execution_count": null,
   "id": "846bd532",
   "metadata": {},
   "outputs": [],
   "source": [
    "# By Item\n",
    "# 42717\n",
    "\n",
    "df_byItem_2021 = df_2021[(df_2021['Item Number'] == '42717')]\n",
    "\n",
    "sale_byItem_2021 = '${:,.0f}'.format(df_byItem_2021['Sale (Dollars)'].sum())\n",
    "inv_byItem_2021 = '{:,.0f}'.format(len(df_byItem_2021['Invoice/Item Number']))\n",
    "\n",
    "#-----------------------------------#\n",
    "dow_sale_byItem_2021 = df_byItem_2021['Sale (Dollars)'].groupby(df_byItem_2021['Day Of Week'].astype(dayOfWeek_category)).sum()                         \n",
    "dow_sale_byItem_2021 = dow_sale_byItem_2021.apply(lambda x: f'${x:,.0f}').to_frame()\n",
    "\n",
    "dow_inv_byItem_2021 = df_byItem_2021['Day Of Week'].astype(dayOfWeek_category).value_counts(sort=False)\n",
    "dow_inv_byItem_2021 = dow_inv_byItem_2021.apply(lambda x: f'{x:,.0f}').to_frame(name='Num of invoice')\n",
    "\n",
    "dow_bottle_byItem_2021 = df_byItem_2021['Bottles Sold'].groupby(df_byItem_2021['Month'].astype(month_category)).sum()\n",
    "dow_bottle_byItem_2021 = dow_bottle_byItem_2021.apply(lambda x: f'{x:,.0f}').to_frame(name='Num of bottle sold')\n",
    "\n",
    "dow_byItem_2021 = pd.concat([dow_sale_byItem_2021, dow_inv_byItem_2021], axis=1, join=\"inner\")\n",
    "\n",
    "#-----------------------------------#\n",
    "month_sale_byItem_2021 = df_byItem_2021['Sale (Dollars)'].groupby(df_byItem_2021['Month'].astype(month_category)).sum()\n",
    "month_sale_byItem_2021 = month_sale_byItem_2021.apply(lambda x: f'${x:,.0f}').to_frame()\n",
    "\n",
    "month_inv_byItem_2021 = df_byItem_2021['Month'].value_counts(sort=False)\n",
    "month_inv_byItem_2021 = month_inv_byItem_2021.apply(lambda x: f'{x:,.0f}').to_frame(name='Num of invoice')\n",
    "\n",
    "month_bottle_byItem_2021 = df_byItem_2021['Bottles Sold'].groupby(df_byItem_2021['Month'].astype(month_category)).sum()\n",
    "month_bottle_byItem_2021 = month_bottle_byItem_2021.apply(lambda x: f'{x:,.0f}').to_frame(name='Num of bottle sold')\n",
    "\n",
    "month_byItem_2021 = pd.concat([month_sale_byItem_2021, month_inv_byItem_2021, month_bottle_byItem_2021], axis=1, join=\"inner\")\n",
    "\n",
    "#-----------------------------------#\n",
    "#store_sale_2021 = df_2021.groupby(['Store Number','Store Name','Address','City','Zip Code', \n",
    "#                                   'Store Location','County'])['Sale (Dollars)'].sum().nlargest(10)\n",
    "store_sale_byItem_2021 = df_byItem_2021.groupby(['Store Name'])['Sale (Dollars)'].sum().nlargest(10)                                   \n",
    "store_sale_byItem_2021 = store_sale_byItem_2021.apply(lambda x: f'${x:,.0f}').to_frame()\n",
    "\n",
    "store_inv_byItem_2021 = df_byItem_2021['Store Name'].value_counts().nlargest(10)\n",
    "store_inv_byItem_2021 = store_inv_byItem_2021.apply(lambda x: f'{x:,.0f}').to_frame(name='Num of invoice')\n",
    "\n",
    "#-----------------------------------#\n",
    "city_sale_byItem_2021 = df_byItem_2021.groupby(['City'])['Sale (Dollars)'].sum().nlargest(10)                                   \n",
    "city_sale_byItem_2021 = city_sale_byItem_2021.apply(lambda x: f'${x:,.0f}').to_frame()\n",
    "\n",
    "city_inv_byItem_2021 = df_byItem_2021['City'].value_counts().nlargest(10)\n",
    "city_inv_byItem_2021 = city_inv_byItem_2021.apply(lambda x: f'{x:,.0f}').to_frame(name='Num of invoice')\n",
    "\n",
    "#-----------------------------------#\n",
    "county_sale_byItem_2021 = df_byItem_2021.groupby(['County'])['Sale (Dollars)'].sum().nlargest(10)                                   \n",
    "county_sale_byItem_2021 = county_sale_byItem_2021.apply(lambda x: f'${x:,.0f}').to_frame()\n",
    "\n",
    "county_inv_byItem_2021 = df_byItem_2021['County'].value_counts().nlargest(10)\n",
    "county_inv_byItem_2021 = county_inv_byItem_2021.apply(lambda x: f'{x:,.0f}').to_frame(name='Num of invoice')\n",
    "\n",
    "#-----------------------------------#\n",
    "print(f\"_____Item Sale_____\\n\")\n",
    "print(f\"Total sale: {sale_byItem_2021}\")\n",
    "print(f\"Total invoice: {inv_byItem_2021}\")\n",
    "print(\"#-----------------------------------#\")\n",
    "print(f\"Day of Week with Best Sales:\\n {dow_byItem_2021}\")\n",
    "print(\"#-----------------------------------#\")\n",
    "print(f\"Month with Best Sales:\\n {month_byItem_2021}\")\n",
    "print(\"#-----------------------------------#\")\n",
    "print(f\"Store (sales) with Best Sales:\\n {store_sale_byItem_2021}\")\n",
    "print(\"#-----------------------------------#\")\n",
    "print(f\"Store (invoices) with Best Sales:\\n {store_inv_byItem_2021}\")\n",
    "print(\"#-----------------------------------#\")\n",
    "print(f\"County (sales) with Best Sales:\\n {city_sale_byItem_2021}\")\n",
    "print(\"#-----------------------------------#\")\n",
    "print(f\"County (invoices) with Best Sales:\\n {city_inv_byItem_2021}\")\n",
    "print(\"#-----------------------------------#\")\n",
    "print(f\"City (sales) with Best Sales:\\n {county_sale_byItem_2021}\")\n",
    "print(\"#-----------------------------------#\")\n",
    "print(f\"City (invoices) with Best Sales:\\n {county_inv_byItem_2021}\")"
   ]
  },
  {
   "cell_type": "code",
   "execution_count": null,
   "id": "ba44ed58",
   "metadata": {},
   "outputs": [],
   "source": [
    "# filter df with from Item name\n",
    "def df_byItem(df, itemName):\n",
    "    return df[df['Item Number'] == itemName]"
   ]
  },
  {
   "cell_type": "code",
   "execution_count": null,
   "id": "fc00db41",
   "metadata": {},
   "outputs": [],
   "source": [
    "df_byItem_2021 = df_byItem(df_2021, '42717')"
   ]
  },
  {
   "cell_type": "code",
   "execution_count": null,
   "id": "99fd7219",
   "metadata": {},
   "outputs": [],
   "source": [
    "dow_sale_byItem_2021 = df_byItem_2021['Sale (Dollars)'].groupby(df_byItem_2021['Day Of Week'].astype(dayOfWeek_category)).sum()                         \n",
    "dow_inv_byItem_2021 = df_byItem_2021['Day Of Week'].astype(dayOfWeek_category).value_counts(sort=False)\n",
    "\n",
    "plot_dow_bestsale_graph(dow_sale_byItem_2021, dow_inv_byItem_2021)"
   ]
  },
  {
   "cell_type": "code",
   "execution_count": null,
   "id": "f340912d",
   "metadata": {},
   "outputs": [],
   "source": [
    "month_sale_byItem_2021 = df_byItem_2021['Sale (Dollars)'].groupby(df_byItem_2021['Month'].astype(month_category)).sum()\n",
    "month_inv_byItem_2021 = df_byItem_2021['Month'].value_counts(sort=False)\n",
    "\n",
    "plot_month_bestsale_graph(month_sale_byItem_2021, month_inv_byItem_2021)"
   ]
  },
  {
   "cell_type": "code",
   "execution_count": null,
   "id": "d108e1b6",
   "metadata": {},
   "outputs": [],
   "source": [
    "store_sale_byItem_2021 = df_byItem_2021.groupby(['Store Name'])['Sale (Dollars)'].sum().nlargest(10)                                   \n",
    "\n",
    "plot_top10store_bestsale_graph(store_sale_byItem_2021)"
   ]
  },
  {
   "cell_type": "code",
   "execution_count": null,
   "id": "8813ac79",
   "metadata": {},
   "outputs": [],
   "source": [
    "store_inv_byItem_2021 = df_byItem_2021['Store Name'].value_counts().nlargest(10)\n",
    "\n",
    "plot_top10store_bestinv_graph(store_inv_byItem_2021)"
   ]
  },
  {
   "cell_type": "code",
   "execution_count": null,
   "id": "6486a9d7",
   "metadata": {},
   "outputs": [],
   "source": [
    "city_sale_byItem_2021 = df_byItem_2021.groupby(['City'])['Sale (Dollars)'].sum().nlargest(10)                                   \n",
    "\n",
    "plot_top10city_bestsale_graph(city_sale_byItem_2021)"
   ]
  },
  {
   "cell_type": "code",
   "execution_count": null,
   "id": "549379ad",
   "metadata": {},
   "outputs": [],
   "source": [
    "city_inv_byItem_2021 = df_byItem_2021['City'].value_counts().nlargest(10)\n",
    "\n",
    "plot_top10city_bestinv_graph(city_inv_byItem_2021)"
   ]
  },
  {
   "cell_type": "code",
   "execution_count": null,
   "id": "d52a88db",
   "metadata": {},
   "outputs": [],
   "source": [
    "county_sale_byItem_2021 = df_byItem_2021.groupby(['County'])['Sale (Dollars)'].sum().nlargest(10)                                   \n",
    "\n",
    "plot_top10county_bestsale_graph(county_sale_byItem_2021)"
   ]
  },
  {
   "cell_type": "code",
   "execution_count": null,
   "id": "f1537874",
   "metadata": {},
   "outputs": [],
   "source": [
    "county_inv_byItem_2021 = df_byItem_2021['County'].value_counts().nlargest(10)\n",
    "\n",
    "plot_top10county_bestinv_graph(county_inv_byItem_2021)"
   ]
  },
  {
   "cell_type": "markdown",
   "id": "26f37a95",
   "metadata": {},
   "source": [
    "### Query by Month to Month"
   ]
  },
  {
   "cell_type": "code",
   "execution_count": null,
   "id": "3896ecba",
   "metadata": {
    "scrolled": true
   },
   "outputs": [],
   "source": [
    "# By Month\n",
    "# 2021-01 to 2021-02\n",
    "\n",
    "df_byMonthToMonth_2021 = df_2021[(df_2021['Month'] == 'Jan')]\n",
    "\n",
    "sale_byMonthToMonth_2021 = '${:,.0f}'.format(df_byMonthToMonth_2021['Sale (Dollars)'].sum())\n",
    "inv_byMonthToMonth_2021 = '{:,.0f}'.format(len(df_byMonthToMonth_2021['Invoice/Item Number']))\n",
    "\n",
    "#-----------------------------------#\n",
    "dow_sale_byMonthToMonth_2021 = df_byMonthToMonth_2021['Sale (Dollars)'].groupby(df_byMonthToMonth_2021['Day Of Week'].astype(dayOfWeek_category)).sum()                         \n",
    "dow_sale_byMonthToMonth_2021 = dow_sale_byMonthToMonth_2021.apply(lambda x: f'${x:,.0f}').to_frame()\n",
    "\n",
    "dow_inv_byMonthToMonth_2021 = df_byMonthToMonth_2021['Day Of Week'].astype(dayOfWeek_category).value_counts(sort=False)\n",
    "dow_inv_byMonthToMonth_2021 = dow_inv_byMonthToMonth_2021.apply(lambda x: f'{x:,.0f}').to_frame(name='Num of invoice')\n",
    "\n",
    "dow_bottle_byMonthToMonth_2021 = df_byMonthToMonth_2021['Bottles Sold'].groupby(df_byMonthToMonth_2021['Month'].astype(month_category)).sum()\n",
    "dow_bottle_byMonthToMonth_2021 = dow_bottle_byMonthToMonth_2021.apply(lambda x: f'{x:,.0f}').to_frame(name='Num of bottle sold')\n",
    "\n",
    "dow_byMonthToMonth_2021 = pd.concat([dow_sale_byMonthToMonth_2021, dow_inv_byMonthToMonth_2021], axis=1, join=\"inner\")\n",
    "\n",
    "#-----------------------------------#\n",
    "month_sale_byMonthToMonth_2021 = df_byMonthToMonth_2021['Sale (Dollars)'].groupby(df_byMonthToMonth_2021['Month'].astype(month_category)).sum()\n",
    "month_sale_byMonthToMonth_2021 = month_sale_byMonthToMonth_2021.apply(lambda x: f'${x:,.0f}').to_frame()\n",
    "\n",
    "month_inv_byMonthToMonth_2021 = df_byMonthToMonth_2021['Month'].value_counts(sort=False)\n",
    "month_inv_byMonthToMonth_2021 = month_inv_byMonthToMonth_2021.apply(lambda x: f'{x:,.0f}').to_frame(name='Num of invoice')\n",
    "\n",
    "month_bottle_byMonthToMonth_2021 = df_byMonthToMonth_2021['Bottles Sold'].groupby(df_byMonthToMonth_2021['Month'].astype(month_category)).sum()\n",
    "month_bottle_byMonthToMonth_2021 = month_bottle_byMonthToMonth_2021.apply(lambda x: f'{x:,.0f}').to_frame(name='Num of bottle sold')\n",
    "\n",
    "month_byMonthToMonth_2021 = pd.concat([month_sale_byMonthToMonth_2021, month_inv_byMonthToMonth_2021, month_bottle_byMonthToMonth_2021], axis=1, join=\"inner\")\n",
    "\n",
    "#-----------------------------------#\n",
    "#store_sale_2021 = df_2021.groupby(['Store Number','Store Name','Address','City','Zip Code', \n",
    "#                                   'Store Location','County'])['Sale (Dollars)'].sum().nlargest(10)\n",
    "store_sale_byMonthToMonth_2021 = df_byMonthToMonth_2021.groupby(['Store Name'])['Sale (Dollars)'].sum().nlargest(10)                                   \n",
    "store_sale_byMonthToMonth_2021 = store_sale_byMonthToMonth_2021.apply(lambda x: f'${x:,.0f}').to_frame()\n",
    "\n",
    "store_inv_byMonthToMonth_2021 = df_byMonthToMonth_2021['Store Name'].value_counts().nlargest(10)\n",
    "store_inv_byMonthToMonth_2021 = store_inv_byMonthToMonth_2021.apply(lambda x: f'{x:,.0f}').to_frame(name='Num of invoice')\n",
    "\n",
    "#-----------------------------------#\n",
    "city_sale_byMonthToMonth_2021 = df_byMonthToMonth_2021.groupby(['City'])['Sale (Dollars)'].sum().nlargest(10)                                   \n",
    "city_sale_byMonthToMonth_2021 = city_sale_byMonthToMonth_2021.apply(lambda x: f'${x:,.0f}').to_frame()\n",
    "\n",
    "city_inv_byMonthToMonth_2021 = df_byMonthToMonth_2021['City'].value_counts().nlargest(10)\n",
    "city_inv_byMonthToMonth_2021 = city_inv_byMonthToMonth_2021.apply(lambda x: f'{x:,.0f}').to_frame(name='Num of invoice')\n",
    "\n",
    "#-----------------------------------#\n",
    "county_sale_byMonthToMonth_2021 = df_byMonthToMonth_2021.groupby(['County'])['Sale (Dollars)'].sum().nlargest(10)                                   \n",
    "county_sale_byMonthToMonth_2021 = county_sale_byMonthToMonth_2021.apply(lambda x: f'${x:,.0f}').to_frame()\n",
    "\n",
    "county_inv_byMonthToMonth_2021 = df_byMonthToMonth_2021['County'].value_counts().nlargest(10)\n",
    "county_inv_byMonthToMonth_2021 = county_inv_byMonthToMonth_2021.apply(lambda x: f'{x:,.0f}').to_frame(name='Num of invoice')\n",
    "\n",
    "#-----------------------------------#\n",
    "catname_sale_byMonthToMonth_2021 = df_byMonthToMonth_2021.groupby(['Category Name'])['Sale (Dollars)'].sum().nlargest(10)                                   \n",
    "catname_sale_byMonthToMonth_2021 = catname_sale_byMonthToMonth_2021.apply(lambda x: f'${x:,.0f}').to_frame()\n",
    "\n",
    "catname_inv_byMonthToMonth_2021 = df_byMonthToMonth_2021['Category Name'].value_counts().nlargest(10)\n",
    "catname_inv_byMonthToMonth_2021 = catname_inv_byMonthToMonth_2021.apply(lambda x: f'{x:,.0f}').to_frame(name='Num of invoice')\n",
    "\n",
    "#-----------------------------------#\n",
    "vendor_sale_byMonthToMonth_2021 = df_byMonthToMonth_2021.groupby(['Vendor Name'])['Sale (Dollars)'].sum().nlargest(10)                                   \n",
    "vendor_sale_byMonthToMonth_2021 = vendor_sale_byMonthToMonth_2021.apply(lambda x: f'${x:,.0f}').to_frame()\n",
    "\n",
    "vendor_inv_byMonthToMonth_2021 = df_byMonthToMonth_2021['Vendor Name'].value_counts().nlargest(10)\n",
    "vendor_inv_byMonthToMonth_2021 = vendor_inv_byMonthToMonth_2021.apply(lambda x: f'{x:,.0f}').to_frame(name='Num of invoice')\n",
    "\n",
    "#-----------------------------------#\n",
    "item_sale_byMonthToMonth_2021 = df_byMonthToMonth_2021.groupby(['Item Description'])['Sale (Dollars)'].sum().nlargest(10)                                   \n",
    "item_sale_byMonthToMonth_2021 = item_sale_byMonthToMonth_2021.apply(lambda x: f'${x:,.0f}').to_frame()\n",
    "\n",
    "item_inv_byMonthToMonth_2021 = df_byMonthToMonth_2021['Item Description'].value_counts().nlargest(10)\n",
    "item_inv_byMonthToMonth_2021 = item_inv_byMonthToMonth_2021.apply(lambda x: f'{x:,.0f}').to_frame(name='Num of invoice')\n",
    "\n",
    "#-----------------------------------#\n",
    "print(f\"_____2021-01 to 2021-02 Sale_____\\n\")\n",
    "print(f\"Total sale: {sale_byMonthToMonth_2021}\")\n",
    "print(f\"Total invoice: {inv_byMonthToMonth_2021}\")\n",
    "print(\"#-----------------------------------#\")\n",
    "print(f\"Day of Week with Best Sales:\\n {dow_byMonthToMonth_2021}\")\n",
    "print(\"#-----------------------------------#\")\n",
    "print(f\"Month with Best Sales:\\n {month_byMonthToMonth_2021}\")\n",
    "print(\"#-----------------------------------#\")\n",
    "print(f\"Store (sales) with Best Sales:\\n {store_sale_byMonthToMonth_2021}\")\n",
    "print(\"#-----------------------------------#\")\n",
    "print(f\"Store (invoices) with Best Sales:\\n {store_inv_byMonthToMonth_2021}\")\n",
    "print(\"#-----------------------------------#\")\n",
    "print(f\"County (sales) with Best Sales:\\n {city_sale_byMonthToMonth_2021}\")\n",
    "print(\"#-----------------------------------#\")\n",
    "print(f\"County (invoices) with Best Sales:\\n {city_inv_byMonthToMonth_2021}\")\n",
    "print(\"#-----------------------------------#\")\n",
    "print(f\"City (sales) with Best Sales:\\n {county_sale_byMonthToMonth_2021}\")\n",
    "print(\"#-----------------------------------#\")\n",
    "print(f\"City (invoices) with Best Sales:\\n {county_inv_byMonthToMonth_2021}\")\n",
    "print(\"#-----------------------------------#\")\n",
    "print(f\"Category (sales) with Best Sales:\\n {catname_sale_byMonthToMonth_2021}\")\n",
    "print(\"#-----------------------------------#\")\n",
    "print(f\"Category (invoices) with Best Sales:\\n {catname_inv_byMonthToMonth_2021}\")\n",
    "print(\"#-----------------------------------#\")\n",
    "print(f\"Vendor (sales) with Best Sales:\\n {vendor_sale_byMonthToMonth_2021}\")\n",
    "print(\"#-----------------------------------#\")\n",
    "print(f\"Vendor (invoices) with Best Sales:\\n {vendor_inv_byMonthToMonth_2021}\")\n",
    "print(\"#-----------------------------------#\")\n",
    "print(f\"Item (sales) with Best Sales:\\n {item_sale_byMonthToMonth_2021}\")\n",
    "print(\"#-----------------------------------#\")\n",
    "print(f\"Item (invoices) with Best Sales:\\n {item_inv_byMonthToMonth_2021}\")"
   ]
  },
  {
   "cell_type": "code",
   "execution_count": null,
   "id": "d8dc89fd",
   "metadata": {},
   "outputs": [],
   "source": []
  },
  {
   "cell_type": "code",
   "execution_count": null,
   "id": "b800813a",
   "metadata": {},
   "outputs": [],
   "source": []
  }
 ],
 "metadata": {
  "kernelspec": {
   "display_name": "Python 3 (ipykernel)",
   "language": "python",
   "name": "python3"
  },
  "language_info": {
   "codemirror_mode": {
    "name": "ipython",
    "version": 3
   },
   "file_extension": ".py",
   "mimetype": "text/x-python",
   "name": "python",
   "nbconvert_exporter": "python",
   "pygments_lexer": "ipython3",
   "version": "3.10.9"
  }
 },
 "nbformat": 4,
 "nbformat_minor": 5
}
